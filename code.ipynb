{
  "cells": [
    {
      "cell_type": "markdown",
      "metadata": {
        "id": "f7444f30-0883-4a87-8e00-c5e5591a2a26"
      },
      "source": [
        "## Import"
      ],
      "id": "f7444f30-0883-4a87-8e00-c5e5591a2a26"
    },
    {
      "cell_type": "code",
      "execution_count": null,
      "metadata": {
        "id": "WJYOIqEl9Ak8",
        "colab": {
          "base_uri": "https://localhost:8080/"
        },
        "outputId": "697e44a9-e603-498d-d95c-6919b0eee2d5"
      },
      "outputs": [
        {
          "output_type": "stream",
          "name": "stdout",
          "text": [
            "Mounted at /content/drive\n",
            "/content/drive/.shortcut-targets-by-id/1bo8OXmxCtxx_kqaMVbLxgeD7-6fO--3a/LG_AIMERS\n"
          ]
        }
      ],
      "source": [
        "from google.colab import drive\n",
        "drive.mount('/content/drive')\n",
        "\n",
        "%cd /content/drive/MyDrive/LG_AIMERS"
      ],
      "id": "WJYOIqEl9Ak8"
    },
    {
      "cell_type": "code",
      "execution_count": null,
      "metadata": {
        "id": "b85832b1-9f31-41e4-b934-cc260e5b3b1d"
      },
      "outputs": [],
      "source": [
        "import random\n",
        "import os\n",
        "# os.environ[\"CUBLAS_WORKSPACE_CONFIG\"] = \":4096:8\"\n",
        "import pandas as pd\n",
        "import numpy as np\n",
        "from tqdm.auto import tqdm\n",
        "from sklearn.preprocessing import LabelEncoder\n",
        "import matplotlib.pyplot as plt\n",
        "\n",
        "import torch\n",
        "import torch.nn as nn\n",
        "import torch.optim as optim\n",
        "import torch.nn.functional as F\n",
        "from torch.utils.data import Dataset, DataLoader\n",
        "from Informer2020.utils.timefeatures import time_features\n",
        "import warnings\n",
        "warnings.filterwarnings('ignore')"
      ],
      "id": "b85832b1-9f31-41e4-b934-cc260e5b3b1d"
    },
    {
      "cell_type": "code",
      "execution_count": null,
      "metadata": {
        "id": "b0259cfd-b37c-4716-aacf-c91d77e41480",
        "colab": {
          "base_uri": "https://localhost:8080/"
        },
        "outputId": "5f13ad7b-f128-4502-ebd2-b5510268b8b7"
      },
      "outputs": [
        {
          "output_type": "execute_result",
          "data": {
            "text/plain": [
              "device(type='cuda')"
            ]
          },
          "metadata": {},
          "execution_count": 3
        }
      ],
      "source": [
        "device = torch.device('cuda') if torch.cuda.is_available() else torch.device('cpu')\n",
        "device"
      ],
      "id": "b0259cfd-b37c-4716-aacf-c91d77e41480"
    },
    {
      "cell_type": "markdown",
      "metadata": {
        "id": "07c2d47b-e9da-47e5-9155-cce997e63481"
      },
      "source": [
        "## Hyperparameter Setting"
      ],
      "id": "07c2d47b-e9da-47e5-9155-cce997e63481"
    },
    {
      "cell_type": "code",
      "execution_count": null,
      "metadata": {
        "id": "c9f50013-6513-44fd-8e48-06dd12ec3f63"
      },
      "outputs": [],
      "source": [
        "CFG = {\n",
        "    'seq_len':90, # 90일치로 학습\n",
        "    'label_len':30, # 21일치 예측\n",
        "    'pred_len':21,\n",
        "    'EPOCHS':20,\n",
        "    'LEARNING_RATE':1e-4,\n",
        "    'BATCH_SIZE':2048,\n",
        "    'SEED':41,\n",
        "    'STRIDE':3,\n",
        "    'checkpoint':'ckpt_sewoong_4',\n",
        "    'timeenc':1\n",
        "}"
      ],
      "id": "c9f50013-6513-44fd-8e48-06dd12ec3f63"
    },
    {
      "cell_type": "code",
      "execution_count": null,
      "metadata": {
        "id": "44cdbe67-eda2-42ef-bc35-0a2bfd99f211"
      },
      "outputs": [],
      "source": [
        "def seed_everything(seed):\n",
        "    random.seed(seed)\n",
        "    os.environ['PYTHONHASHSEED'] = str(seed)\n",
        "    np.random.seed(seed)\n",
        "    torch.manual_seed(seed)\n",
        "    torch.cuda.manual_seed(seed)\n",
        "    torch.backends.cudnn.deterministic = True\n",
        "    torch.backends.cudnn.benchmark = True\n",
        "\n",
        "seed_everything(CFG['SEED']) # Seed 고정"
      ],
      "id": "44cdbe67-eda2-42ef-bc35-0a2bfd99f211"
    },
    {
      "cell_type": "markdown",
      "metadata": {
        "id": "pM2qeS76S65I"
      },
      "source": [
        "## 데이터 불러오기"
      ],
      "id": "pM2qeS76S65I"
    },
    {
      "cell_type": "code",
      "execution_count": null,
      "metadata": {
        "id": "b6yzOoUgS65U"
      },
      "outputs": [],
      "source": [
        "train_data = pd.read_csv('./Part2/train.csv').drop(columns=['ID', '제품'])"
      ],
      "id": "b6yzOoUgS65U"
    },
    {
      "cell_type": "code",
      "execution_count": null,
      "metadata": {
        "id": "Wwh1rNCVS65U"
      },
      "outputs": [],
      "source": [
        "brand = pd.read_csv('./Part2/brand_keyword_cnt.csv')"
      ],
      "id": "Wwh1rNCVS65U"
    },
    {
      "cell_type": "markdown",
      "metadata": {
        "id": "8TbNDb2ZTNXz"
      },
      "source": [
        "## 데이터 전처리"
      ],
      "id": "8TbNDb2ZTNXz"
    },
    {
      "cell_type": "code",
      "execution_count": null,
      "metadata": {
        "id": "LQgzL7FWd1hj"
      },
      "outputs": [],
      "source": [
        "## '2023-02-23':'2023-03-28' 이상치 대체\n",
        "\n",
        "ids = train_data.index[train_data.iloc[:,422:456].sum(axis=1)==0]\n",
        "around = list(range(422-7,422))+list(range(457,463))\n",
        "mean = train_data.iloc[ids,around].mean(axis=1)\n",
        "mean = mean.values.reshape(-1,1)\n",
        "\n",
        "replace_data = np.column_stack([mean for i in range(34)])\n",
        "train_data.iloc[ids,422:456] = replace_data"
      ],
      "id": "LQgzL7FWd1hj"
    },
    {
      "cell_type": "code",
      "execution_count": null,
      "metadata": {
        "id": "ytDRmyuEiC-o"
      },
      "outputs": [],
      "source": [
        "# upper값으로 이상치 대치\n",
        "\n",
        "m = (train_data.iloc[:,4:][train_data.iloc[:,4:]!=0]).mean(axis=1)\n",
        "s = (train_data.iloc[:,4:][train_data.iloc[:,4:]!=0]).std(axis=1)\n",
        "\n",
        "upper = m+3*s\n",
        "\n",
        "temp = train_data.iloc[:,4:].T\n",
        "def replace(column,upper):\n",
        "    column_index = temp.columns.get_loc(column.name)\n",
        "    u = upper[column_index]\n",
        "    ret = np.where(column>u,u,column)\n",
        "    return ret\n",
        "\n",
        "temp = temp.apply(lambda x:replace(x,upper))\n",
        "train_data.iloc[:,4:] = temp.T"
      ],
      "id": "ytDRmyuEiC-o"
    },
    {
      "cell_type": "code",
      "execution_count": null,
      "metadata": {
        "id": "LofWvbhbTNX1"
      },
      "outputs": [],
      "source": [
        "#brand keyword 언급량 NaN값 전체 평균으로 대체\n",
        "empty_brand = brand.set_index('브랜드').T.isnull().sum().sort_values(ascending=False)[:35].index\n",
        "col = brand.columns[1:]\n",
        "mean = brand.iloc[:,1:].mean()\n",
        "for b in empty_brand:\n",
        "    brand.loc[brand['브랜드']==b,col] = mean.values"
      ],
      "id": "LofWvbhbTNX1"
    },
    {
      "cell_type": "code",
      "execution_count": null,
      "metadata": {
        "id": "0cce55de"
      },
      "outputs": [],
      "source": [
        "total_scale = True\n",
        "# 숫자형 변수들의 min-max scaling을 수행하는 코드입니다.\n",
        "numeric_cols = train_data.columns[4:]\n",
        "# 칵 column의 min 및 max 계산\n",
        "\n",
        "if total_scale:\n",
        "  min_values = train_data[numeric_cols].min(axis=1)\n",
        "  max_values = train_data[numeric_cols].max(axis=1)\n",
        "else:\n",
        "  min_values = train_data[numeric_cols[border1s[0]:border2s[0]]].min(axis=1)\n",
        "  max_values = train_data[numeric_cols[border1s[0]:border2s[0]]].max(axis=1)\n",
        "# 각 행의 범위(max-min)를 계산하고, 범위가 0인 경우 1로 대체\n",
        "ranges = max_values - min_values\n",
        "ranges[ranges == 0] = 1  ##기존 코드에서는 0으로 처리함\n",
        "# min-max scaling 수행\n",
        "train_data[numeric_cols] = (train_data[numeric_cols].subtract(min_values, axis=0)).div(ranges, axis=0)\n",
        "# max와 min 값을 dictionary 형태로 저장\n",
        "scale_min_dict = min_values.to_dict()\n",
        "scale_max_dict = max_values.to_dict()"
      ],
      "id": "0cce55de"
    },
    {
      "cell_type": "code",
      "execution_count": null,
      "metadata": {
        "id": "Bxsb_bWRroIb"
      },
      "outputs": [],
      "source": [
        "## diff_data : 전날과의 판매량 차이 (차분)\n",
        "train_diff = (train_data.iloc[:,4:].diff(axis=1)).fillna(0)"
      ],
      "id": "Bxsb_bWRroIb"
    },
    {
      "cell_type": "code",
      "execution_count": null,
      "metadata": {
        "id": "UxMyaGBBTNX2"
      },
      "outputs": [],
      "source": [
        "# Label Encoding\n",
        "label_encoder = LabelEncoder()\n",
        "categorical_columns = ['대분류', '중분류', '소분류']\n",
        "\n",
        "for col in categorical_columns:\n",
        "    label_encoder.fit(train_data[col])\n",
        "    train_data[col] = label_encoder.transform(train_data[col])\n",
        "\n",
        "label_encoder.fit(train_data['브랜드'])\n",
        "train_data['브랜드'] = label_encoder.transform(train_data['브랜드'])\n",
        "brand['브랜드'] = label_encoder.transform(brand['브랜드'])"
      ],
      "id": "UxMyaGBBTNX2"
    },
    {
      "cell_type": "code",
      "source": [
        "num_train = int(len(train_data.columns[4:])*0.8)\n",
        "num_vali = len(train_data.columns[4:]) - num_train\n",
        "border1s = [0, num_train-CFG['seq_len']]\n",
        "border2s = [num_train, num_train+num_vali]\n",
        "set_type = {'train':0,'valid':1}"
      ],
      "metadata": {
        "id": "AuLELhfnUm33"
      },
      "id": "AuLELhfnUm33",
      "execution_count": null,
      "outputs": []
    },
    {
      "cell_type": "code",
      "source": [
        "val_data = train_data.iloc[:,4 + border1s[1]:]\n",
        "val_data = pd.concat([train_data.iloc[:,:4],val_data],axis=1)\n",
        "train_data = train_data.iloc[:, :4 + border2s[0]]"
      ],
      "metadata": {
        "id": "GSiBX2G5Uocu"
      },
      "id": "GSiBX2G5Uocu",
      "execution_count": null,
      "outputs": []
    },
    {
      "cell_type": "markdown",
      "metadata": {
        "id": "4RtjZovMVXsB"
      },
      "source": [
        "## make dataset"
      ],
      "id": "4RtjZovMVXsB"
    },
    {
      "cell_type": "code",
      "execution_count": null,
      "metadata": {
        "id": "debff992-a1f4-4ade-b2e9-45b234e44412"
      },
      "outputs": [],
      "source": [
        "def make_data(data, seq_len=CFG['seq_len'], pred_len=CFG['pred_len'], label_len=CFG['label_len'], stride=CFG['STRIDE']):\n",
        "\n",
        "    date = pd.DataFrame({'date':pd.to_datetime(data.columns[4:])})\n",
        "    data_stamp = time_features(date, timeenc=CFG['timeenc'], freq='d') ## time_enc=0 : month,day,weekday / time_enc=1 : month,dasy,weekday를 encoding\n",
        "    num_rows = len(data) #train의 행 => 제품개수\n",
        "    window_size = seq_len + pred_len\n",
        "\n",
        "    enc_input_data = np.empty((num_rows * len(range(0,len(data.columns) - 4 - window_size + 1,stride)), seq_len, 3))\n",
        "    dec_input_data = np.empty((num_rows * len(range(0,len(data.columns) - 4 - window_size + 1,stride)), label_len + pred_len, 3))\n",
        "\n",
        "    enc_mark_data = np.empty((num_rows * len(range(0,len(data.columns) - 4 - window_size + 1,stride)), seq_len, data_stamp.shape[1]+4))\n",
        "    dec_mark_data = np.empty((num_rows * len(range(0,len(data.columns) - 4 - window_size + 1,stride)), label_len + pred_len, data_stamp.shape[1]+4))\n",
        "\n",
        "    for i in tqdm(range(num_rows)): #각 ID 마다\n",
        "        encode_info = np.array(data.iloc[i, :4]) #분류 정보\n",
        "        sales_data = np.array(data.iloc[i, 4:]) #판매 정보\n",
        "        temp_brand = brand.loc[brand['브랜드']==encode_info[-1],data.columns[4:]].values[0]\n",
        "        t_diff = np.array(train_diff.iloc[i,4:])\n",
        "\n",
        "        assert len(temp_brand)==len(sales_data)\n",
        "\n",
        "        for idx,j in enumerate(range(0,len(sales_data) - window_size + 1, stride)):\n",
        "\n",
        "            s_begin = j\n",
        "            s_end = s_begin + seq_len\n",
        "            r_begin = s_end - label_len\n",
        "            r_end = r_begin + label_len + pred_len\n",
        "\n",
        "            enc_mark = data_stamp[s_begin:s_end]\n",
        "            dec_mark = data_stamp[r_begin:r_end]\n",
        "\n",
        "            enc_info = np.stack([encode_info for _ in range(s_end-s_begin)])\n",
        "            dec_info = np.stack([encode_info for _ in range(r_end-r_begin)])\n",
        "\n",
        "            enc_mark = np.concatenate([enc_mark,enc_info],axis=1)\n",
        "            dec_mark = np.concatenate([dec_mark,dec_info],axis=1)\n",
        "\n",
        "            brand_window = temp_brand[j : j + window_size]\n",
        "            sales_window = sales_data[j : j + window_size]\n",
        "            t_diff_window = t_diff[j : j + window_size]\n",
        "\n",
        "            enc_temp_data = np.column_stack((brand_window[:seq_len],\n",
        "                                             t_diff_window[:seq_len],\n",
        "                                             sales_window[:seq_len]))\n",
        "\n",
        "            dec_temp_data = np.column_stack((brand_window[-(label_len+pred_len):],\n",
        "                                             t_diff_window[-(label_len+pred_len):],\n",
        "                                             sales_window[-(label_len+pred_len):]))\n",
        "\n",
        "            enc_input_data[i * len(range(0,len(data.columns) - 4 - window_size + 1,stride)) + idx] = enc_temp_data\n",
        "            dec_input_data[i * len(range(0,len(data.columns) - 4 - window_size + 1,stride)) + idx] = dec_temp_data\n",
        "\n",
        "            enc_mark_data[i] = enc_mark\n",
        "            dec_mark_data[i] = dec_mark\n",
        "\n",
        "    return enc_input_data, dec_input_data, enc_mark_data, dec_mark_data"
      ],
      "id": "debff992-a1f4-4ade-b2e9-45b234e44412"
    },
    {
      "cell_type": "code",
      "execution_count": null,
      "metadata": {
        "id": "9bf39b0f-64f4-4126-9a3d-da5de9f624d5"
      },
      "outputs": [],
      "source": [
        "def make_predict_data(data, seq_len=CFG['seq_len'], pred_len=CFG['pred_len'], label_len=CFG['label_len']):\n",
        "\n",
        "    date = pd.DataFrame({'date':pd.to_datetime(data.columns[-seq_len:])})\n",
        "    pred_dates = pd.date_range(date.date.values[-1], periods=pred_len+1, freq='d')\n",
        "    df_stamp = pd.DataFrame(columns = ['date'])\n",
        "    df_stamp.date = list(date.date.values) + list(pred_dates[1:])\n",
        "    data_stamp = time_features(df_stamp, timeenc=CFG['timeenc'], freq='d')\n",
        "\n",
        "    num_rows = len(data)\n",
        "    window_size = seq_len + pred_len\n",
        "\n",
        "    enc_input_data = np.empty((num_rows, seq_len, 3))\n",
        "    dec_input_data = np.empty((num_rows, label_len, 3))\n",
        "\n",
        "    enc_mark_data = np.empty((num_rows, seq_len, data_stamp.shape[1] + 4))\n",
        "    dec_mark_data = np.empty((num_rows, label_len + pred_len, data_stamp.shape[1] + 4))\n",
        "\n",
        "    enc_mark = data_stamp[:seq_len]\n",
        "    dec_mark = data_stamp[seq_len-label_len:]\n",
        "\n",
        "    for i in tqdm(range(num_rows)):\n",
        "        encode_info = np.array(data.iloc[i, :4])\n",
        "        sales_data = np.array(data.iloc[i, -seq_len:])\n",
        "        temp_brand = brand[brand['브랜드']==encode_info[-1]].values[0][-seq_len:]\n",
        "        temp_t_diff = np.array(train_diff.iloc[i,-seq_len:])\n",
        "\n",
        "        enc_info = np.stack([encode_info for _ in range(seq_len)])\n",
        "        dec_info = np.stack([encode_info for _ in range(label_len+pred_len)])\n",
        "\n",
        "        enc_mark_temp = np.concatenate([enc_mark,enc_info],axis=1)\n",
        "        dec_mark_temp = np.concatenate([dec_mark,dec_info],axis=1)\n",
        "\n",
        "        sales_window = sales_data[-seq_len : ]\n",
        "        brand_window = temp_brand[-seq_len : ]\n",
        "        t_diff_window = temp_t_diff[-seq_len : ]\n",
        "\n",
        "        enc_temp_data = np.column_stack((brand_window[:seq_len],\n",
        "                                         t_diff_window[:seq_len],\n",
        "                                         sales_window[:seq_len]))\n",
        "\n",
        "        dec_temp_data = np.column_stack((brand_window[-label_len:],\n",
        "                                         t_diff_window[-label_len:],\n",
        "                                         sales_window[-label_len:]))\n",
        "\n",
        "        enc_input_data[i] = enc_temp_data\n",
        "        dec_input_data[i] = dec_temp_data\n",
        "\n",
        "        enc_mark_data[i] = enc_mark_temp\n",
        "        dec_mark_data[i] = dec_mark_temp\n",
        "\n",
        "    return enc_input_data, dec_input_data, enc_mark_data, dec_mark_data"
      ],
      "id": "9bf39b0f-64f4-4126-9a3d-da5de9f624d5"
    },
    {
      "cell_type": "code",
      "execution_count": null,
      "metadata": {
        "id": "321244c0"
      },
      "outputs": [],
      "source": [
        "def make_psfa_data(data, seq_len=CFG['seq_len'], pred_len=CFG['pred_len'], label_len=CFG['label_len']):\n",
        "\n",
        "    num_rows = len(data) #train의 행 => 제품개수\n",
        "    window_size = seq_len + pred_len\n",
        "\n",
        "    date = pd.DataFrame({'date':pd.to_datetime(data.columns[4:])})\n",
        "    data_stamp = time_features(date, timeenc=CFG['timeenc'], freq='d') ## time_enc=0 : month,day,weekday / time_enc=1 : month,dasy,weekday를 encoding\n",
        "    data_stamp = data_stamp[-window_size:,:]\n",
        "\n",
        "    enc_input_data = np.empty((num_rows, seq_len, 3))\n",
        "    dec_input_data = np.empty((num_rows, label_len + pred_len, 3))\n",
        "\n",
        "    enc_mark_data = np.empty((num_rows, seq_len, data_stamp.shape[1] + 4))\n",
        "    dec_mark_data = np.empty((num_rows, label_len + pred_len, data_stamp.shape[1] + 4))\n",
        "\n",
        "    enc_mark = data_stamp[:seq_len]\n",
        "    dec_mark = data_stamp[seq_len-label_len:]\n",
        "\n",
        "    for i in tqdm(range(num_rows)):\n",
        "        encode_info = np.array(data.iloc[i, :4])\n",
        "        sales_data = np.array(data.iloc[i, -window_size:])\n",
        "        temp_brand = brand[brand['브랜드']==encode_info[-1]].values[0][-window_size:]\n",
        "        temp_t_diff = np.array(train_diff.iloc[i, -window_size:])\n",
        "        # changes = np.array(change_cnts.iloc[i,:])\n",
        "\n",
        "        sales_window = sales_data[-window_size : ]\n",
        "        brand_window = temp_brand[-window_size : ]\n",
        "        t_diff_window = temp_t_diff[-window_size : ]\n",
        "\n",
        "        enc_info = np.stack([encode_info for _ in range(seq_len)])\n",
        "        dec_info = np.stack([encode_info for _ in range(label_len+pred_len)])\n",
        "\n",
        "        enc_mark_temp = np.concatenate([enc_mark,enc_info],axis=1)\n",
        "        dec_mark_temp = np.concatenate([dec_mark,dec_info],axis=1)\n",
        "\n",
        "\n",
        "        enc_temp_data = np.column_stack((brand_window[:seq_len],\n",
        "                                         t_diff_window[:seq_len],\n",
        "                                         sales_window[:seq_len]))\n",
        "\n",
        "        dec_temp_data = np.column_stack((brand_window[-(label_len+pred_len):],\n",
        "                                         t_diff_window[-(label_len+pred_len):],\n",
        "                                         sales_window[-(label_len+pred_len):]))\n",
        "\n",
        "        enc_input_data[i] = enc_temp_data\n",
        "        dec_input_data[i] = dec_temp_data\n",
        "\n",
        "        enc_mark_data[i] = enc_mark_temp\n",
        "        dec_mark_data[i] = dec_mark_temp\n",
        "\n",
        "    return enc_input_data, dec_input_data, enc_mark_data, dec_mark_data"
      ],
      "id": "321244c0"
    },
    {
      "cell_type": "code",
      "execution_count": null,
      "metadata": {
        "colab": {
          "base_uri": "https://localhost:8080/",
          "referenced_widgets": [
            "88e49781d66044b9ac35f813b038b449",
            "e3ad46ec13314ebc9291cfca8f56d14d",
            "64188437eb4e4223b52395d93365edc9",
            "8a68ae0d326f47f4909492e3a51d4159",
            "6ff3ffeac214443aaecbbca926e35927",
            "a833c1113e794e20b1046dbc6af5ed7f",
            "5b88a0a2875740eaa7dd6adfe982785d",
            "64887c72b97c47e9a666397c78b47ff5",
            "979abcd7c9cf4733a38fbff8172c00d6",
            "05ea41fa63dc4e1e8461ab94dc2c3ee5",
            "79f602882c43462b8d8029b8d433c896"
          ]
        },
        "id": "3c203f18-dfe9-430a-8082-f1143267b296",
        "outputId": "875e6eaf-7d5e-49be-81f4-ea9c730d70a5"
      },
      "outputs": [
        {
          "output_type": "display_data",
          "data": {
            "text/plain": [
              "  0%|          | 0/15890 [00:00<?, ?it/s]"
            ],
            "application/vnd.jupyter.widget-view+json": {
              "version_major": 2,
              "version_minor": 0,
              "model_id": "88e49781d66044b9ac35f813b038b449"
            }
          },
          "metadata": {}
        }
      ],
      "source": [
        "enc_train_data, dec_train_data, enc_mark_train_data, dec_mark_train_data = make_data(train_data)"
      ],
      "id": "3c203f18-dfe9-430a-8082-f1143267b296"
    },
    {
      "cell_type": "code",
      "execution_count": null,
      "metadata": {
        "colab": {
          "base_uri": "https://localhost:8080/"
        },
        "id": "dzSUlifnTv9h",
        "outputId": "ba427d86-fe3d-4c41-ebac-98a05be2c1a6"
      },
      "outputs": [
        {
          "output_type": "execute_result",
          "data": {
            "text/plain": [
              "((1366540, 90, 3), (1366540, 51, 3), (1366540, 90, 8), (1366540, 51, 8))"
            ]
          },
          "metadata": {},
          "execution_count": 20
        }
      ],
      "source": [
        "enc_train_data.shape, dec_train_data.shape, enc_mark_train_data.shape, dec_mark_train_data.shape"
      ],
      "id": "dzSUlifnTv9h"
    },
    {
      "cell_type": "code",
      "execution_count": null,
      "metadata": {
        "colab": {
          "base_uri": "https://localhost:8080/",
          "referenced_widgets": [
            "a6a1b4a5f40f4c80ac87c8944bf9e60c",
            "52f3b03c213542fea3c59cafa98eef29",
            "9738b7e7cb074ec0b60023ea38cf9803",
            "63faae21293144198214a3151752f267",
            "8b53054d5f364b308e20f19689d9d11d",
            "62fed089ecbd449099a731a8d5ad5c65",
            "c7a668dad0824ff68447f17d37d6c150",
            "66181ed9e87a440caa5ca206cc54e536",
            "cd4a4019cc0e4fdea93665720f7cb8c5",
            "22a50f95f28e49a896923dc6cd8243bf",
            "b307954c205541439e6bbd7d9a4849db"
          ]
        },
        "id": "IS8B01wruGsr",
        "outputId": "f46b51af-6fe3-47a0-f9b0-04d4b29cbc02"
      },
      "outputs": [
        {
          "output_type": "display_data",
          "data": {
            "text/plain": [
              "  0%|          | 0/15890 [00:00<?, ?it/s]"
            ],
            "application/vnd.jupyter.widget-view+json": {
              "version_major": 2,
              "version_minor": 0,
              "model_id": "a6a1b4a5f40f4c80ac87c8944bf9e60c"
            }
          },
          "metadata": {}
        }
      ],
      "source": [
        "enc_val_data, dec_val_data, enc_mark_val_data, dec_mark_val_data = make_data(val_data)"
      ],
      "id": "IS8B01wruGsr"
    },
    {
      "cell_type": "code",
      "execution_count": null,
      "metadata": {
        "colab": {
          "base_uri": "https://localhost:8080/"
        },
        "id": "z2pCzlHLT0F2",
        "outputId": "96308e03-ee94-4278-abf8-ff33f5a511c0"
      },
      "outputs": [
        {
          "output_type": "execute_result",
          "data": {
            "text/plain": [
              "((381360, 90, 3), (381360, 51, 3), (381360, 90, 8), (381360, 51, 8))"
            ]
          },
          "metadata": {},
          "execution_count": 22
        }
      ],
      "source": [
        "enc_val_data.shape, dec_val_data.shape, enc_mark_val_data.shape, dec_mark_val_data.shape"
      ],
      "id": "z2pCzlHLT0F2"
    },
    {
      "cell_type": "code",
      "execution_count": null,
      "metadata": {
        "colab": {
          "base_uri": "https://localhost:8080/",
          "referenced_widgets": [
            "0c736457e3654746a1e7b6bc107290ca",
            "e0bff8a4d7b7445aa812a3417d859cb3",
            "61e1246607b544a09eed71d0698f02fa",
            "53a4bc7c20234cf38c2b62cf189b4250",
            "46f25413a1f644399731acc6df7f0cce",
            "cb8014867a664dfa8cac8307cfe80cc0",
            "a7d010fecea74ee794537d8fcaac887e",
            "97b14983661644d4ba4f70d743e6133c",
            "32ec7c1adeda478db434e5cd4db2bb79",
            "9172765387b14aa3ae7b05314a7602af",
            "338cce594084489ea13b285dcedeac61"
          ]
        },
        "id": "r9Q7o2g_EAUh",
        "outputId": "6d52a042-9ef1-4325-cf4e-00a0b41850ba"
      },
      "outputs": [
        {
          "output_type": "display_data",
          "data": {
            "text/plain": [
              "  0%|          | 0/15890 [00:00<?, ?it/s]"
            ],
            "application/vnd.jupyter.widget-view+json": {
              "version_major": 2,
              "version_minor": 0,
              "model_id": "0c736457e3654746a1e7b6bc107290ca"
            }
          },
          "metadata": {}
        }
      ],
      "source": [
        "enc_test_data, dec_test_data, enc_mark_test_data, dec_mark_test_data = make_predict_data(val_data)"
      ],
      "id": "r9Q7o2g_EAUh"
    },
    {
      "cell_type": "code",
      "execution_count": null,
      "metadata": {
        "colab": {
          "base_uri": "https://localhost:8080/"
        },
        "id": "SBCR-SctT4Ta",
        "outputId": "b1feb581-50a5-4ad7-fbc4-800d005ca54c"
      },
      "outputs": [
        {
          "output_type": "execute_result",
          "data": {
            "text/plain": [
              "((15890, 90, 3), (15890, 30, 3), (15890, 90, 8), (15890, 51, 8))"
            ]
          },
          "metadata": {},
          "execution_count": 24
        }
      ],
      "source": [
        "enc_test_data.shape, dec_test_data.shape, enc_mark_test_data.shape, dec_mark_test_data.shape"
      ],
      "id": "SBCR-SctT4Ta"
    },
    {
      "cell_type": "code",
      "execution_count": null,
      "metadata": {
        "colab": {
          "base_uri": "https://localhost:8080/",
          "referenced_widgets": [
            "a0fba5cce3c449919ae27af69d5ea827",
            "fdde6115a3a44ea29d91c079440935db",
            "9f92664483d04426a5c820030b03f966",
            "0419bd608fa7486a9551845042e61fb0",
            "afcd2483d9164dccba4d961da2b63eda",
            "5741be870a6f46098c1a9dd36ed72840",
            "9dc663778dfe4e38b06500e95ed611e1",
            "b6f5fc1379314e4694b4d7389a9fd801",
            "c54650b59f114580807d1f487ca7c00d",
            "a938ef60bfbb48a38d5044aad4d37d78",
            "9c84856a7ef84db590d31a2c07ffbef3"
          ]
        },
        "id": "3a8eaaec",
        "outputId": "4e4006a0-2071-4530-d785-544b8897d3a4"
      },
      "outputs": [
        {
          "output_type": "display_data",
          "data": {
            "text/plain": [
              "  0%|          | 0/15890 [00:00<?, ?it/s]"
            ],
            "application/vnd.jupyter.widget-view+json": {
              "version_major": 2,
              "version_minor": 0,
              "model_id": "a0fba5cce3c449919ae27af69d5ea827"
            }
          },
          "metadata": {}
        }
      ],
      "source": [
        "enc_psfa_data, dec_psfa_data, enc_mark_psfa_data, dec_mark_psfa_data = make_psfa_data(val_data)"
      ],
      "id": "3a8eaaec"
    },
    {
      "cell_type": "code",
      "execution_count": null,
      "metadata": {
        "colab": {
          "base_uri": "https://localhost:8080/"
        },
        "id": "3be176ad-ccc8-425c-9627-f583c0647489",
        "outputId": "fed82c50-a7b0-478c-d775-29b47c1c1ff6"
      },
      "outputs": [
        {
          "output_type": "execute_result",
          "data": {
            "text/plain": [
              "((15890, 90, 3), (15890, 51, 3), (15890, 90, 8), (15890, 51, 8))"
            ]
          },
          "metadata": {},
          "execution_count": 26
        }
      ],
      "source": [
        "enc_psfa_data.shape, dec_psfa_data.shape, enc_mark_psfa_data.shape, dec_mark_psfa_data.shape"
      ],
      "id": "3be176ad-ccc8-425c-9627-f583c0647489"
    },
    {
      "cell_type": "markdown",
      "metadata": {
        "id": "9062f078"
      },
      "source": [
        "## PSFA"
      ],
      "id": "9062f078"
    },
    {
      "cell_type": "code",
      "execution_count": null,
      "metadata": {
        "colab": {
          "base_uri": "https://localhost:8080/"
        },
        "id": "ec39a219",
        "outputId": "c553896c-f44a-4947-d94e-21bd61873d89"
      },
      "outputs": [
        {
          "output_type": "execute_result",
          "data": {
            "text/plain": [
              "dict_keys([1, 2, 0, 4, 3])"
            ]
          },
          "metadata": {},
          "execution_count": 27
        }
      ],
      "source": [
        "indexs_bigcat={}\n",
        "for bigcat in train_data['대분류'].unique():\n",
        "    indexs_bigcat[bigcat] = list(train_data.loc[train_data['대분류']==bigcat].index)\n",
        "\n",
        "indexs_bigcat.keys()\n",
        "\n",
        "## 대분류별로 15890개 item의 index"
      ],
      "id": "ec39a219"
    },
    {
      "cell_type": "code",
      "execution_count": null,
      "metadata": {
        "id": "50f1fd44"
      },
      "outputs": [],
      "source": [
        "##item별로 딱 한번만 예측해서 15890개만 존재할때 사용\n",
        "\n",
        "def PSFA(pred, target):\n",
        "    PSFA = 1\n",
        "    for cat in range(5):\n",
        "        ids = indexs_bigcat[cat]\n",
        "        for day in range(CFG['pred_len']):\n",
        "            total_sell = np.sum(target[ids, day]) # day별 총 판매량\n",
        "            pred_values = pred[ids, day] # day별 예측 판매량\n",
        "            target_values = target[ids, day] # day별 실제 판매량\n",
        "\n",
        "            # 실제 판매와 예측 판매가 같은 경우 오차가 없는 것으로 간주\n",
        "            denominator = np.maximum(target_values, pred_values)\n",
        "            diffs = np.where(denominator!=0, np.abs(target_values - pred_values) / denominator, 0)\n",
        "\n",
        "            if total_sell != 0:\n",
        "                sell_weights = target_values / total_sell  # Item별 day 총 판매량 내 비중\n",
        "            else:\n",
        "                sell_weights = np.ones_like(target_values) / len(ids)  # 1 / len(ids)로 대체\n",
        "\n",
        "            if not np.isnan(diffs).any():  # diffs에 NaN이 없는 경우에만 PSFA 값 업데이트\n",
        "                PSFA -= np.sum(diffs * sell_weights) / (CFG['pred_len'] * 5)\n",
        "\n",
        "\n",
        "    return PSFA"
      ],
      "id": "50f1fd44"
    },
    {
      "cell_type": "markdown",
      "metadata": {
        "id": "3b2f3d76-fcf4-4866-a578-6bb76783bbed"
      },
      "source": [
        "## Custom Dataset"
      ],
      "id": "3b2f3d76-fcf4-4866-a578-6bb76783bbed"
    },
    {
      "cell_type": "code",
      "execution_count": null,
      "metadata": {
        "colab": {
          "base_uri": "https://localhost:8080/"
        },
        "id": "MXvv5-xIU0jc",
        "outputId": "eebdc3a4-a494-4c82-e0ff-e2f96819d008"
      },
      "outputs": [
        {
          "output_type": "stream",
          "name": "stdout",
          "text": [
            "/content/drive/.shortcut-targets-by-id/1bo8OXmxCtxx_kqaMVbLxgeD7-6fO--3a/LG_AIMERS/Informer2020\n"
          ]
        }
      ],
      "source": [
        "%cd Informer2020"
      ],
      "id": "MXvv5-xIU0jc"
    },
    {
      "cell_type": "code",
      "execution_count": null,
      "metadata": {
        "id": "QdPv0eQ4UbWE"
      },
      "outputs": [],
      "source": [
        "from data.data_loader import Dataset_Custom"
      ],
      "id": "QdPv0eQ4UbWE"
    },
    {
      "cell_type": "code",
      "execution_count": null,
      "metadata": {
        "id": "4ec0a970-4d99-486d-b9b5-210f3cdca353"
      },
      "outputs": [],
      "source": [
        "train_dataset = Dataset_Custom(enc_train_data, dec_train_data, enc_mark_train_data, dec_mark_train_data)\n",
        "train_loader = DataLoader(train_dataset, batch_size = CFG['BATCH_SIZE'], shuffle=True, num_workers=0)\n",
        "\n",
        "val_dataset = Dataset_Custom(enc_val_data, dec_val_data, enc_mark_val_data, dec_mark_val_data)\n",
        "val_loader = DataLoader(val_dataset, batch_size = CFG['BATCH_SIZE'], shuffle=False, num_workers=0)\n",
        "\n",
        "psfa_dataset = Dataset_Custom(enc_psfa_data, dec_psfa_data, enc_mark_psfa_data, dec_mark_psfa_data)\n",
        "psfa_loader = DataLoader(psfa_dataset, batch_size = 512, shuffle=False, num_workers=0)\n",
        "\n",
        "test_dataset = Dataset_Custom(enc_test_data, dec_test_data, enc_mark_test_data, dec_mark_test_data)\n",
        "test_loader = DataLoader(test_dataset, batch_size = CFG['BATCH_SIZE'], shuffle=False, num_workers=0)"
      ],
      "id": "4ec0a970-4d99-486d-b9b5-210f3cdca353"
    },
    {
      "cell_type": "markdown",
      "metadata": {
        "id": "c63f0b66-817d-49ff-9163-a975fb0f239d"
      },
      "source": [
        "## 모델 선언"
      ],
      "id": "c63f0b66-817d-49ff-9163-a975fb0f239d"
    },
    {
      "cell_type": "markdown",
      "metadata": {
        "id": "VsUgYFP10IF4"
      },
      "source": [
        "#### parameter"
      ],
      "id": "VsUgYFP10IF4"
    },
    {
      "cell_type": "code",
      "execution_count": null,
      "metadata": {
        "id": "HkLJMhYH0VKS",
        "colab": {
          "base_uri": "https://localhost:8080/"
        },
        "outputId": "ed7d1843-a76a-48f8-8cab-b9bac5b5f2fc"
      },
      "outputs": [
        {
          "output_type": "execute_result",
          "data": {
            "text/plain": [
              "3"
            ]
          },
          "metadata": {},
          "execution_count": 32
        }
      ],
      "source": [
        "input_size = enc_test_data.shape[-1]\n",
        "input_size"
      ],
      "id": "HkLJMhYH0VKS"
    },
    {
      "cell_type": "code",
      "execution_count": null,
      "metadata": {
        "id": "hcBNUI-60HEG"
      },
      "outputs": [],
      "source": [
        "enc_in = input_size\n",
        "dec_in = input_size\n",
        "c_out = 1\n",
        "seq_len = CFG['seq_len']\n",
        "label_len = CFG['label_len']\n",
        "out_len = CFG['pred_len']\n",
        "output_attention = False\n",
        "freq = 'd'\n",
        "embed = 'timeF'\n",
        "dropout = 0.1\n",
        "d_model=512\n",
        "d_ff = 1024\n",
        "attn = 'prob' #full\n",
        "device = device\n",
        "sep_cat = True\n",
        "\n",
        "learning_rate = CFG['LEARNING_RATE']"
      ],
      "id": "hcBNUI-60HEG"
    },
    {
      "cell_type": "code",
      "execution_count": null,
      "metadata": {
        "id": "nJJFAkugzSkV"
      },
      "outputs": [],
      "source": [
        "from models.model import Informer\n",
        "\n",
        "model = Informer(enc_in=enc_in, dec_in=dec_in, c_out=c_out, seq_len=seq_len, label_len=label_len, out_len=out_len, d_model=d_model, d_ff=d_ff, attn=attn, output_attention=output_attention, freq=freq, embed=embed, dropout=dropout, sep_cat=sep_cat, device=device)"
      ],
      "id": "nJJFAkugzSkV"
    },
    {
      "cell_type": "markdown",
      "metadata": {
        "id": "b4f79f7d"
      },
      "source": [
        "## 모델 학습"
      ],
      "id": "b4f79f7d"
    },
    {
      "cell_type": "code",
      "execution_count": null,
      "metadata": {
        "id": "8k4YERUA4ufY"
      },
      "outputs": [],
      "source": [
        "def process_one_batch(model, batch_x, batch_y, batch_x_mark, batch_y_mark, device):\n",
        "  batch_x = batch_x.float().to(device)\n",
        "  batch_y = batch_y.float()\n",
        "\n",
        "  batch_x_mark = batch_x_mark.float().to(device)\n",
        "  batch_y_mark = batch_y_mark.float().to(device)\n",
        "\n",
        "  # decoder input\n",
        "  dec_inp = torch.zeros([batch_y.shape[0], CFG['pred_len'], batch_y.shape[-1]]).float()\n",
        "  dec_inp = torch.cat([batch_y[:,:CFG['label_len'],:], dec_inp], dim=1).float().to(device)\n",
        "  # encoder - decoder\n",
        "  outputs = model(batch_x, batch_x_mark, dec_inp, batch_y_mark)\n",
        "\n",
        "  f_dim = -1 #feature = 'MS'\n",
        "  batch_y = batch_y[:,-CFG['pred_len']:,f_dim:].to(device)\n",
        "\n",
        "  return outputs, batch_y\n",
        "\n",
        "def adjust_learning_rate(optimizer, epoch):\n",
        "  # lr = args.learning_rate * (0.2 ** (epoch // 2))\n",
        "  lr_adjust = {epoch: CFG['LEARNING_RATE'] * (0.5 ** ((epoch-1) // 1))}\n",
        "\n",
        "  if epoch in lr_adjust.keys():\n",
        "      lr = lr_adjust[epoch]\n",
        "      for param_group in optimizer.param_groups:\n",
        "          param_group['lr'] = lr\n",
        "      print('Updating learning rate to {}'.format(lr))"
      ],
      "id": "8k4YERUA4ufY"
    },
    {
      "cell_type": "code",
      "execution_count": null,
      "metadata": {
        "id": "FuZu7i0g4C9D"
      },
      "outputs": [],
      "source": [
        "location = CFG['checkpoint']"
      ],
      "id": "FuZu7i0g4C9D"
    },
    {
      "cell_type": "code",
      "execution_count": null,
      "metadata": {
        "id": "AGi2TIkt2k_-"
      },
      "outputs": [],
      "source": [
        "import time\n",
        "from tqdm import tqdm\n",
        "\n",
        "def get_psfa(model, psfa_loader, device):\n",
        "  psfa_pred_list = []\n",
        "  psfa_target_list = []\n",
        "\n",
        "  with torch.no_grad():\n",
        "    for batch_x,batch_y,batch_x_mark,batch_y_mark in tqdm(iter(psfa_loader)):\n",
        "      pred, true = process_one_batch(model, batch_x, batch_y, batch_x_mark, batch_y_mark, device)\n",
        "      pred = pred.cpu().numpy()\n",
        "      true = true.cpu().numpy()\n",
        "\n",
        "      psfa_pred_list.extend(pred)\n",
        "      psfa_target_list.extend(true)\n",
        "\n",
        "  psfa_pred_list = np.array(psfa_pred_list)\n",
        "  psfa_target_list = np.array(psfa_target_list)\n",
        "\n",
        "  for idx in range(len(psfa_pred_list)): #15889\n",
        "    psfa_pred_list[idx, :] = psfa_pred_list[idx, :] * (scale_max_dict[idx] - scale_min_dict[idx]) + scale_min_dict[idx]\n",
        "    psfa_target_list[idx, :] = psfa_target_list[idx, :] * (scale_max_dict[idx] - scale_min_dict[idx]) + scale_min_dict[idx]\n",
        "\n",
        "  psfa_pred_list = np.round(psfa_pred_list, 0).astype(int)\n",
        "  psfa_target_list = np.round(psfa_target_list, 0).astype(int)\n",
        "\n",
        "  psfa_pred_list = psfa_pred_list.squeeze(-1)\n",
        "  psfa_target_list = psfa_target_list.squeeze(-1)\n",
        "\n",
        "  return PSFA(psfa_pred_list,psfa_target_list)\n",
        "\n",
        "\n",
        "def vali(model, val_loader, psfa_loader, criterion, optimizer, device):\n",
        "  model.eval()\n",
        "  total_loss = []\n",
        "  with torch.no_grad():\n",
        "    for batch_x,batch_y,batch_x_mark,batch_y_mark in tqdm(iter(val_loader)):\n",
        "        pred, true = process_one_batch(model, batch_x, batch_y, batch_x_mark, batch_y_mark, device)\n",
        "        loss = criterion(pred.detach().cpu(), true.detach().cpu())\n",
        "        total_loss.append(loss)\n",
        "\n",
        "  total_loss = np.average(total_loss)\n",
        "  psfa_score = get_psfa(model, psfa_loader, device)\n",
        "  return total_loss, psfa_score\n",
        "\n",
        "def train(model, train_loader, val_loader, psfa_loader, optimizer, criterion, device):\n",
        "  best_loss = 9999999\n",
        "  best_psfa = 0\n",
        "  best_psfa_model = None\n",
        "  best_loss_model = None\n",
        "  patient = 0\n",
        "  train_loss_list = []\n",
        "  val_loss_list = []\n",
        "  val_psfa_list = []\n",
        "  model = model.to(device)\n",
        "\n",
        "  path = os.path.join('./checkpoint', location)\n",
        "  if not os.path.exists(path):\n",
        "      os.makedirs(path)\n",
        "\n",
        "  train_steps = len(train_loader)\n",
        "\n",
        "  for epoch in range(CFG['EPOCHS']):\n",
        "      iter_count = 0\n",
        "      train_loss = []\n",
        "      model.train()\n",
        "\n",
        "      for batch_x,batch_y,batch_x_mark,batch_y_mark in tqdm(iter(train_loader)):\n",
        "\n",
        "          optimizer.zero_grad()\n",
        "          pred, true = process_one_batch(model, batch_x, batch_y, batch_x_mark, batch_y_mark, device)\n",
        "          loss = criterion(pred, true)\n",
        "          train_loss.append(loss.item())\n",
        "\n",
        "          loss.backward()\n",
        "          optimizer.step()\n",
        "\n",
        "      train_loss = np.average(train_loss)\n",
        "      val_loss, val_psfa = vali(model, val_loader, psfa_loader, criterion, optimizer, device)\n",
        "\n",
        "      train_loss_list.append(train_loss)\n",
        "      val_loss_list.append(val_loss)\n",
        "      val_psfa_list.append(val_psfa)\n",
        "\n",
        "      print(\"Epoch: {0}, Steps: {1} | Train Loss: {2:.7f} Val Loss: {3:.7f} Val PSFA: {4:.7f}\".format(epoch + 1, train_steps, train_loss, val_loss, val_psfa))\n",
        "\n",
        "      if best_loss > val_loss:\n",
        "          best_loss = val_loss\n",
        "          best_loss_model = model\n",
        "          torch.save(model.state_dict(), path+'/'+'ckpt_loss.pth')\n",
        "          patient = 0\n",
        "          print('Loss Model Saved')\n",
        "\n",
        "      if best_psfa < val_psfa:\n",
        "          best_psfa = val_psfa\n",
        "          best_psfa_model = model\n",
        "          torch.save(model.state_dict(), path+'/'+'ckpt_psfa.pth')\n",
        "          patient = 0\n",
        "          print('PSFA Model Saved')\n",
        "\n",
        "      #adjust_learning_rate(optimizer, epoch+1)\n",
        "\n",
        "  best_model_path = path+'/'+'ckpt_psfa.pth'\n",
        "  #model.load_state_dict(torch.load(best_model_path))\n",
        "\n",
        "  return best_psfa_model, train_loss_list, val_loss_list, val_psfa_list"
      ],
      "id": "AGi2TIkt2k_-"
    },
    {
      "cell_type": "markdown",
      "metadata": {
        "id": "1c83fa73-30d5-489c-852b-d655f76a200c"
      },
      "source": [
        "## Run !!"
      ],
      "id": "1c83fa73-30d5-489c-852b-d655f76a200c"
    },
    {
      "cell_type": "code",
      "source": [
        "#0828\n",
        "optimizer = torch.optim.Adam(params = model.parameters(), lr = CFG[\"LEARNING_RATE\"])\n",
        "criterion = nn.MSELoss()\n",
        "infer_model, train_loss_list, val_loss_list, val_psfa_list = train(model, train_loader, val_loader, psfa_loader, optimizer, criterion, device)"
      ],
      "metadata": {
        "colab": {
          "base_uri": "https://localhost:8080/"
        },
        "id": "qYrdtK2U8J5h",
        "outputId": "bcf7c32e-6b6e-4717-97de-83968f829330"
      },
      "id": "qYrdtK2U8J5h",
      "execution_count": null,
      "outputs": [
        {
          "output_type": "stream",
          "name": "stderr",
          "text": [
            "100%|██████████| 668/668 [09:22<00:00,  1.19it/s]\n",
            "100%|██████████| 187/187 [01:10<00:00,  2.63it/s]\n",
            "100%|██████████| 32/32 [00:06<00:00,  4.72it/s]\n"
          ]
        },
        {
          "output_type": "stream",
          "name": "stdout",
          "text": [
            "Epoch: 1, Steps: 668 | Train Loss: 0.0298921 Val Loss: 0.0233423 Val PSFA: 0.6703260\n",
            "Loss Model Saved\n",
            "PSFA Model Saved\n"
          ]
        },
        {
          "output_type": "stream",
          "name": "stderr",
          "text": [
            "100%|██████████| 668/668 [08:59<00:00,  1.24it/s]\n",
            "100%|██████████| 187/187 [01:08<00:00,  2.74it/s]\n",
            "100%|██████████| 32/32 [00:02<00:00, 10.68it/s]\n"
          ]
        },
        {
          "output_type": "stream",
          "name": "stdout",
          "text": [
            "Epoch: 2, Steps: 668 | Train Loss: 0.0222509 Val Loss: 0.0252829 Val PSFA: 0.4872968\n"
          ]
        },
        {
          "output_type": "stream",
          "name": "stderr",
          "text": [
            "100%|██████████| 668/668 [08:59<00:00,  1.24it/s]\n",
            "100%|██████████| 187/187 [01:07<00:00,  2.75it/s]\n",
            "100%|██████████| 32/32 [00:02<00:00, 10.71it/s]\n"
          ]
        },
        {
          "output_type": "stream",
          "name": "stdout",
          "text": [
            "Epoch: 3, Steps: 668 | Train Loss: 0.0212022 Val Loss: 0.0272048 Val PSFA: 0.5312960\n"
          ]
        },
        {
          "output_type": "stream",
          "name": "stderr",
          "text": [
            "100%|██████████| 668/668 [08:59<00:00,  1.24it/s]\n",
            "100%|██████████| 187/187 [01:08<00:00,  2.75it/s]\n",
            "100%|██████████| 32/32 [00:02<00:00, 10.67it/s]\n"
          ]
        },
        {
          "output_type": "stream",
          "name": "stdout",
          "text": [
            "Epoch: 4, Steps: 668 | Train Loss: 0.0205665 Val Loss: 0.0253300 Val PSFA: 0.5535748\n"
          ]
        },
        {
          "output_type": "stream",
          "name": "stderr",
          "text": [
            "100%|██████████| 668/668 [08:59<00:00,  1.24it/s]\n",
            "100%|██████████| 187/187 [01:07<00:00,  2.75it/s]\n",
            "100%|██████████| 32/32 [00:02<00:00, 10.68it/s]\n"
          ]
        },
        {
          "output_type": "stream",
          "name": "stdout",
          "text": [
            "Epoch: 5, Steps: 668 | Train Loss: 0.0202127 Val Loss: 0.0270391 Val PSFA: 0.7140272\n",
            "PSFA Model Saved\n"
          ]
        },
        {
          "output_type": "stream",
          "name": "stderr",
          "text": [
            "100%|██████████| 668/668 [08:59<00:00,  1.24it/s]\n",
            "100%|██████████| 187/187 [01:08<00:00,  2.75it/s]\n",
            "100%|██████████| 32/32 [00:02<00:00, 10.67it/s]\n"
          ]
        },
        {
          "output_type": "stream",
          "name": "stdout",
          "text": [
            "Epoch: 6, Steps: 668 | Train Loss: 0.0199687 Val Loss: 0.0282801 Val PSFA: 0.7019429\n"
          ]
        },
        {
          "output_type": "stream",
          "name": "stderr",
          "text": [
            "100%|██████████| 668/668 [08:59<00:00,  1.24it/s]\n",
            "100%|██████████| 187/187 [01:08<00:00,  2.74it/s]\n",
            "100%|██████████| 32/32 [00:02<00:00, 10.67it/s]\n"
          ]
        },
        {
          "output_type": "stream",
          "name": "stdout",
          "text": [
            "Epoch: 7, Steps: 668 | Train Loss: 0.0198216 Val Loss: 0.0260369 Val PSFA: 0.6607804\n"
          ]
        },
        {
          "output_type": "stream",
          "name": "stderr",
          "text": [
            "100%|██████████| 668/668 [08:59<00:00,  1.24it/s]\n",
            "100%|██████████| 187/187 [01:08<00:00,  2.75it/s]\n",
            "100%|██████████| 32/32 [00:02<00:00, 10.69it/s]\n"
          ]
        },
        {
          "output_type": "stream",
          "name": "stdout",
          "text": [
            "Epoch: 8, Steps: 668 | Train Loss: 0.0196696 Val Loss: 0.0253075 Val PSFA: 0.6476471\n"
          ]
        },
        {
          "output_type": "stream",
          "name": "stderr",
          "text": [
            "100%|██████████| 668/668 [08:59<00:00,  1.24it/s]\n",
            "100%|██████████| 187/187 [01:08<00:00,  2.75it/s]\n",
            "100%|██████████| 32/32 [00:03<00:00, 10.65it/s]\n"
          ]
        },
        {
          "output_type": "stream",
          "name": "stdout",
          "text": [
            "Epoch: 9, Steps: 668 | Train Loss: 0.0195750 Val Loss: 0.0255464 Val PSFA: 0.6693244\n"
          ]
        },
        {
          "output_type": "stream",
          "name": "stderr",
          "text": [
            "100%|██████████| 668/668 [08:59<00:00,  1.24it/s]\n",
            "100%|██████████| 187/187 [01:08<00:00,  2.75it/s]\n",
            "100%|██████████| 32/32 [00:03<00:00, 10.61it/s]\n"
          ]
        },
        {
          "output_type": "stream",
          "name": "stdout",
          "text": [
            "Epoch: 10, Steps: 668 | Train Loss: 0.0194928 Val Loss: 0.0273059 Val PSFA: 0.6569960\n"
          ]
        },
        {
          "output_type": "stream",
          "name": "stderr",
          "text": [
            "100%|██████████| 668/668 [08:59<00:00,  1.24it/s]\n",
            "100%|██████████| 187/187 [01:08<00:00,  2.74it/s]\n",
            "100%|██████████| 32/32 [00:02<00:00, 10.69it/s]\n"
          ]
        },
        {
          "output_type": "stream",
          "name": "stdout",
          "text": [
            "Epoch: 11, Steps: 668 | Train Loss: 0.0194153 Val Loss: 0.0259514 Val PSFA: 0.6628821\n"
          ]
        },
        {
          "output_type": "stream",
          "name": "stderr",
          "text": [
            "100%|██████████| 668/668 [08:59<00:00,  1.24it/s]\n",
            "100%|██████████| 187/187 [01:08<00:00,  2.75it/s]\n",
            "100%|██████████| 32/32 [00:03<00:00, 10.64it/s]\n"
          ]
        },
        {
          "output_type": "stream",
          "name": "stdout",
          "text": [
            "Epoch: 12, Steps: 668 | Train Loss: 0.0193675 Val Loss: 0.0257072 Val PSFA: 0.6962169\n"
          ]
        },
        {
          "output_type": "stream",
          "name": "stderr",
          "text": [
            "100%|██████████| 668/668 [09:01<00:00,  1.23it/s]\n",
            "100%|██████████| 187/187 [01:08<00:00,  2.71it/s]\n",
            "100%|██████████| 32/32 [00:03<00:00, 10.52it/s]\n"
          ]
        },
        {
          "output_type": "stream",
          "name": "stdout",
          "text": [
            "Epoch: 13, Steps: 668 | Train Loss: 0.0192574 Val Loss: 0.0261663 Val PSFA: 0.7086976\n"
          ]
        },
        {
          "output_type": "stream",
          "name": "stderr",
          "text": [
            "100%|██████████| 668/668 [09:01<00:00,  1.23it/s]\n",
            "100%|██████████| 187/187 [01:08<00:00,  2.72it/s]\n",
            "100%|██████████| 32/32 [00:03<00:00, 10.58it/s]\n"
          ]
        },
        {
          "output_type": "stream",
          "name": "stdout",
          "text": [
            "Epoch: 14, Steps: 668 | Train Loss: 0.0192160 Val Loss: 0.0282804 Val PSFA: 0.6934472\n"
          ]
        },
        {
          "output_type": "stream",
          "name": "stderr",
          "text": [
            "100%|██████████| 668/668 [09:02<00:00,  1.23it/s]\n",
            "100%|██████████| 187/187 [01:08<00:00,  2.71it/s]\n",
            "100%|██████████| 32/32 [00:03<00:00, 10.56it/s]\n"
          ]
        },
        {
          "output_type": "stream",
          "name": "stdout",
          "text": [
            "Epoch: 15, Steps: 668 | Train Loss: 0.0191779 Val Loss: 0.0265436 Val PSFA: 0.6856684\n"
          ]
        },
        {
          "output_type": "stream",
          "name": "stderr",
          "text": [
            "100%|██████████| 668/668 [09:01<00:00,  1.23it/s]\n",
            "100%|██████████| 187/187 [01:08<00:00,  2.72it/s]\n",
            "100%|██████████| 32/32 [00:03<00:00, 10.57it/s]\n"
          ]
        },
        {
          "output_type": "stream",
          "name": "stdout",
          "text": [
            "Epoch: 16, Steps: 668 | Train Loss: 0.0191128 Val Loss: 0.0272504 Val PSFA: 0.6884712\n"
          ]
        },
        {
          "output_type": "stream",
          "name": "stderr",
          "text": [
            "100%|██████████| 668/668 [09:01<00:00,  1.23it/s]\n",
            "100%|██████████| 187/187 [01:08<00:00,  2.71it/s]\n",
            "100%|██████████| 32/32 [00:03<00:00, 10.52it/s]\n"
          ]
        },
        {
          "output_type": "stream",
          "name": "stdout",
          "text": [
            "Epoch: 17, Steps: 668 | Train Loss: 0.0190552 Val Loss: 0.0273182 Val PSFA: 0.7059108\n"
          ]
        },
        {
          "output_type": "stream",
          "name": "stderr",
          "text": [
            "100%|██████████| 668/668 [09:01<00:00,  1.23it/s]\n",
            "100%|██████████| 187/187 [01:08<00:00,  2.72it/s]\n",
            "100%|██████████| 32/32 [00:03<00:00, 10.59it/s]\n"
          ]
        },
        {
          "output_type": "stream",
          "name": "stdout",
          "text": [
            "Epoch: 18, Steps: 668 | Train Loss: 0.0189990 Val Loss: 0.0265878 Val PSFA: 0.7095292\n"
          ]
        },
        {
          "output_type": "stream",
          "name": "stderr",
          "text": [
            "100%|██████████| 668/668 [09:01<00:00,  1.23it/s]\n",
            "100%|██████████| 187/187 [01:08<00:00,  2.72it/s]\n",
            "100%|██████████| 32/32 [00:03<00:00, 10.48it/s]\n"
          ]
        },
        {
          "output_type": "stream",
          "name": "stdout",
          "text": [
            "Epoch: 19, Steps: 668 | Train Loss: 0.0189391 Val Loss: 0.0260865 Val PSFA: 0.6537138\n"
          ]
        },
        {
          "output_type": "stream",
          "name": "stderr",
          "text": [
            "100%|██████████| 668/668 [09:00<00:00,  1.24it/s]\n",
            "100%|██████████| 187/187 [01:08<00:00,  2.72it/s]\n",
            "100%|██████████| 32/32 [00:03<00:00, 10.52it/s]\n"
          ]
        },
        {
          "output_type": "stream",
          "name": "stdout",
          "text": [
            "Epoch: 20, Steps: 668 | Train Loss: 0.0188854 Val Loss: 0.0270927 Val PSFA: 0.7014424\n"
          ]
        }
      ]
    },
    {
      "cell_type": "markdown",
      "metadata": {
        "id": "36b20af7-f5b1-4a7a-8eb9-7dde5bbf3d04"
      },
      "source": [
        "## 모델 추론"
      ],
      "id": "36b20af7-f5b1-4a7a-8eb9-7dde5bbf3d04"
    },
    {
      "cell_type": "code",
      "execution_count": null,
      "metadata": {
        "id": "214f30d4-2b19-479f-89b7-bf5bb2adc111"
      },
      "outputs": [],
      "source": [
        "def inference(model, test_loader, device):\n",
        "  model = model.to(device)\n",
        "  model.eval()\n",
        "  predictions = []\n",
        "\n",
        "  with torch.no_grad():\n",
        "    for batch_x,batch_y,batch_x_mark,batch_y_mark in tqdm(iter(test_loader)):\n",
        "        pred, true = process_one_batch(model, batch_x, batch_y, batch_x_mark, batch_y_mark, device)\n",
        "        pred = pred.detach().cpu().numpy()\n",
        "\n",
        "        predictions.extend(pred)\n",
        "\n",
        "  return np.array(predictions)"
      ],
      "id": "214f30d4-2b19-479f-89b7-bf5bb2adc111"
    },
    {
      "cell_type": "code",
      "execution_count": null,
      "metadata": {
        "colab": {
          "base_uri": "https://localhost:8080/"
        },
        "id": "nFAuK_CWv0y9",
        "outputId": "29cf0458-d208-4964-dcc7-69793309557b"
      },
      "outputs": [
        {
          "output_type": "stream",
          "name": "stderr",
          "text": [
            "100%|██████████| 8/8 [00:04<00:00,  2.00it/s]\n"
          ]
        }
      ],
      "source": [
        "pred = inference(infer_model, test_loader, device)"
      ],
      "id": "nFAuK_CWv0y9"
    },
    {
      "cell_type": "code",
      "execution_count": null,
      "metadata": {
        "colab": {
          "base_uri": "https://localhost:8080/"
        },
        "id": "YS2ZD-GSmOeh",
        "outputId": "96ab343a-b845-4d62-ce77-b818ec3a13d8"
      },
      "outputs": [
        {
          "output_type": "execute_result",
          "data": {
            "text/plain": [
              "(15890, 21)"
            ]
          },
          "metadata": {},
          "execution_count": 41
        }
      ],
      "source": [
        "pred = pred.squeeze(-1)\n",
        "pred.shape"
      ],
      "id": "YS2ZD-GSmOeh"
    },
    {
      "cell_type": "code",
      "execution_count": null,
      "metadata": {
        "id": "517978aa-445a-4ece-9217-432682f71230"
      },
      "outputs": [],
      "source": [
        "# 추론 결과를 inverse scaling\n",
        "for idx in range(len(pred)):\n",
        "    pred[idx, :] = pred[idx, :] * (scale_max_dict[idx] - scale_min_dict[idx]) + scale_min_dict[idx]\n",
        "\n",
        "# 결과 후처리\n",
        "pred = np.round(pred, 0).astype(int)"
      ],
      "id": "517978aa-445a-4ece-9217-432682f71230"
    },
    {
      "cell_type": "markdown",
      "metadata": {
        "id": "a48b50eb-d2d8-4c2d-a5e7-9607220fd794"
      },
      "source": [
        "## Submission"
      ],
      "id": "a48b50eb-d2d8-4c2d-a5e7-9607220fd794"
    },
    {
      "cell_type": "code",
      "execution_count": null,
      "metadata": {
        "id": "f249ae01"
      },
      "outputs": [],
      "source": [
        "submit = pd.read_csv('../Part2/sample_submission.csv')"
      ],
      "id": "f249ae01"
    },
    {
      "cell_type": "code",
      "execution_count": null,
      "metadata": {
        "id": "2db62d9c-b3ad-440a-8cc7-4897b2e4860f"
      },
      "outputs": [],
      "source": [
        "submit.iloc[:,1:] = pred"
      ],
      "id": "2db62d9c-b3ad-440a-8cc7-4897b2e4860f"
    },
    {
      "cell_type": "code",
      "source": [
        "submit = pd.read_csv('./submit_files/submit_informer_0907_notreplace.csv')"
      ],
      "metadata": {
        "id": "HdBHW4Z6RE2g"
      },
      "id": "HdBHW4Z6RE2g",
      "execution_count": null,
      "outputs": []
    },
    {
      "cell_type": "code",
      "source": [
        "submit.describe()"
      ],
      "metadata": {
        "colab": {
          "base_uri": "https://localhost:8080/",
          "height": 329
        },
        "id": "34ghQEKNRQTR",
        "outputId": "405c6e97-c051-4c03-c420-7999aa9bd274"
      },
      "id": "34ghQEKNRQTR",
      "execution_count": null,
      "outputs": [
        {
          "output_type": "execute_result",
          "data": {
            "text/plain": [
              "                 ID    2023-04-05    2023-04-06    2023-04-07    2023-04-08  \\\n",
              "count  15890.000000  15890.000000  15890.000000  15890.000000  15890.000000   \n",
              "mean    7944.500000      8.025928      8.130522     10.077533     11.348081   \n",
              "std     4587.192224     77.715704     74.536339     87.402104    121.375368   \n",
              "min        0.000000    -47.000000    -93.000000    -90.000000   -108.000000   \n",
              "25%     3972.250000      0.000000      0.000000      0.000000      0.000000   \n",
              "50%     7944.500000      0.000000      0.000000      0.000000      0.000000   \n",
              "75%    11916.750000      1.000000      1.000000      1.000000      1.000000   \n",
              "max    15889.000000   4928.000000   4287.000000   4318.000000   7924.000000   \n",
              "\n",
              "         2023-04-09    2023-04-10    2023-04-11    2023-04-12    2023-04-13  \\\n",
              "count  15890.000000  15890.000000  15890.000000  15890.000000  15890.000000   \n",
              "mean      11.224544     10.837256     10.383638     10.901007     11.436375   \n",
              "std      105.504345     95.391020     83.507802     85.041790     89.801715   \n",
              "min      -18.000000      0.000000      0.000000      0.000000      0.000000   \n",
              "25%        0.000000      0.000000      0.000000      0.000000      0.000000   \n",
              "50%        0.000000      0.000000      0.000000      1.000000      1.000000   \n",
              "75%        2.000000      3.000000      3.000000      3.000000      3.000000   \n",
              "max     6141.000000   5531.000000   4807.000000   4900.000000   5372.000000   \n",
              "\n",
              "       ...    2023-04-16    2023-04-17    2023-04-18    2023-04-19  \\\n",
              "count  ...  15890.000000  15890.000000  15890.000000  15890.000000   \n",
              "mean   ...     10.673065     10.501951     10.452549     11.280931   \n",
              "std    ...     79.708594     77.117477     76.055912     81.627950   \n",
              "min    ...      0.000000      0.000000      0.000000      0.000000   \n",
              "25%    ...      0.000000      0.000000      0.000000      0.000000   \n",
              "50%    ...      1.000000      1.000000      1.000000      1.000000   \n",
              "75%    ...      3.000000      3.000000      3.000000      4.000000   \n",
              "max    ...   4872.000000   4156.000000   3823.000000   3942.000000   \n",
              "\n",
              "         2023-04-20    2023-04-21    2023-04-22    2023-04-23    2023-04-24  \\\n",
              "count  15890.000000  15890.000000  15890.000000  15890.000000  15890.000000   \n",
              "mean      12.068974     12.164632     12.011391     11.695469     11.335431   \n",
              "std       90.330451     90.647045     87.920297     84.066578     80.096669   \n",
              "min        0.000000      0.000000      0.000000      0.000000      0.000000   \n",
              "25%        0.000000      0.000000      0.000000      0.000000      0.000000   \n",
              "50%        1.000000      1.000000      1.000000      1.000000      1.000000   \n",
              "75%        4.000000      4.000000      4.000000      4.000000      4.000000   \n",
              "max     4450.000000   4839.000000   4751.000000   4324.000000   3953.000000   \n",
              "\n",
              "         2023-04-25  \n",
              "count  15890.000000  \n",
              "mean      11.606797  \n",
              "std       81.313968  \n",
              "min        0.000000  \n",
              "25%        0.000000  \n",
              "50%        1.000000  \n",
              "75%        4.000000  \n",
              "max     3682.000000  \n",
              "\n",
              "[8 rows x 22 columns]"
            ],
            "text/html": [
              "\n",
              "  <div id=\"df-089a54b2-5ac7-40f9-a99f-435bb525eae7\" class=\"colab-df-container\">\n",
              "    <div>\n",
              "<style scoped>\n",
              "    .dataframe tbody tr th:only-of-type {\n",
              "        vertical-align: middle;\n",
              "    }\n",
              "\n",
              "    .dataframe tbody tr th {\n",
              "        vertical-align: top;\n",
              "    }\n",
              "\n",
              "    .dataframe thead th {\n",
              "        text-align: right;\n",
              "    }\n",
              "</style>\n",
              "<table border=\"1\" class=\"dataframe\">\n",
              "  <thead>\n",
              "    <tr style=\"text-align: right;\">\n",
              "      <th></th>\n",
              "      <th>ID</th>\n",
              "      <th>2023-04-05</th>\n",
              "      <th>2023-04-06</th>\n",
              "      <th>2023-04-07</th>\n",
              "      <th>2023-04-08</th>\n",
              "      <th>2023-04-09</th>\n",
              "      <th>2023-04-10</th>\n",
              "      <th>2023-04-11</th>\n",
              "      <th>2023-04-12</th>\n",
              "      <th>2023-04-13</th>\n",
              "      <th>...</th>\n",
              "      <th>2023-04-16</th>\n",
              "      <th>2023-04-17</th>\n",
              "      <th>2023-04-18</th>\n",
              "      <th>2023-04-19</th>\n",
              "      <th>2023-04-20</th>\n",
              "      <th>2023-04-21</th>\n",
              "      <th>2023-04-22</th>\n",
              "      <th>2023-04-23</th>\n",
              "      <th>2023-04-24</th>\n",
              "      <th>2023-04-25</th>\n",
              "    </tr>\n",
              "  </thead>\n",
              "  <tbody>\n",
              "    <tr>\n",
              "      <th>count</th>\n",
              "      <td>15890.000000</td>\n",
              "      <td>15890.000000</td>\n",
              "      <td>15890.000000</td>\n",
              "      <td>15890.000000</td>\n",
              "      <td>15890.000000</td>\n",
              "      <td>15890.000000</td>\n",
              "      <td>15890.000000</td>\n",
              "      <td>15890.000000</td>\n",
              "      <td>15890.000000</td>\n",
              "      <td>15890.000000</td>\n",
              "      <td>...</td>\n",
              "      <td>15890.000000</td>\n",
              "      <td>15890.000000</td>\n",
              "      <td>15890.000000</td>\n",
              "      <td>15890.000000</td>\n",
              "      <td>15890.000000</td>\n",
              "      <td>15890.000000</td>\n",
              "      <td>15890.000000</td>\n",
              "      <td>15890.000000</td>\n",
              "      <td>15890.000000</td>\n",
              "      <td>15890.000000</td>\n",
              "    </tr>\n",
              "    <tr>\n",
              "      <th>mean</th>\n",
              "      <td>7944.500000</td>\n",
              "      <td>8.025928</td>\n",
              "      <td>8.130522</td>\n",
              "      <td>10.077533</td>\n",
              "      <td>11.348081</td>\n",
              "      <td>11.224544</td>\n",
              "      <td>10.837256</td>\n",
              "      <td>10.383638</td>\n",
              "      <td>10.901007</td>\n",
              "      <td>11.436375</td>\n",
              "      <td>...</td>\n",
              "      <td>10.673065</td>\n",
              "      <td>10.501951</td>\n",
              "      <td>10.452549</td>\n",
              "      <td>11.280931</td>\n",
              "      <td>12.068974</td>\n",
              "      <td>12.164632</td>\n",
              "      <td>12.011391</td>\n",
              "      <td>11.695469</td>\n",
              "      <td>11.335431</td>\n",
              "      <td>11.606797</td>\n",
              "    </tr>\n",
              "    <tr>\n",
              "      <th>std</th>\n",
              "      <td>4587.192224</td>\n",
              "      <td>77.715704</td>\n",
              "      <td>74.536339</td>\n",
              "      <td>87.402104</td>\n",
              "      <td>121.375368</td>\n",
              "      <td>105.504345</td>\n",
              "      <td>95.391020</td>\n",
              "      <td>83.507802</td>\n",
              "      <td>85.041790</td>\n",
              "      <td>89.801715</td>\n",
              "      <td>...</td>\n",
              "      <td>79.708594</td>\n",
              "      <td>77.117477</td>\n",
              "      <td>76.055912</td>\n",
              "      <td>81.627950</td>\n",
              "      <td>90.330451</td>\n",
              "      <td>90.647045</td>\n",
              "      <td>87.920297</td>\n",
              "      <td>84.066578</td>\n",
              "      <td>80.096669</td>\n",
              "      <td>81.313968</td>\n",
              "    </tr>\n",
              "    <tr>\n",
              "      <th>min</th>\n",
              "      <td>0.000000</td>\n",
              "      <td>-47.000000</td>\n",
              "      <td>-93.000000</td>\n",
              "      <td>-90.000000</td>\n",
              "      <td>-108.000000</td>\n",
              "      <td>-18.000000</td>\n",
              "      <td>0.000000</td>\n",
              "      <td>0.000000</td>\n",
              "      <td>0.000000</td>\n",
              "      <td>0.000000</td>\n",
              "      <td>...</td>\n",
              "      <td>0.000000</td>\n",
              "      <td>0.000000</td>\n",
              "      <td>0.000000</td>\n",
              "      <td>0.000000</td>\n",
              "      <td>0.000000</td>\n",
              "      <td>0.000000</td>\n",
              "      <td>0.000000</td>\n",
              "      <td>0.000000</td>\n",
              "      <td>0.000000</td>\n",
              "      <td>0.000000</td>\n",
              "    </tr>\n",
              "    <tr>\n",
              "      <th>25%</th>\n",
              "      <td>3972.250000</td>\n",
              "      <td>0.000000</td>\n",
              "      <td>0.000000</td>\n",
              "      <td>0.000000</td>\n",
              "      <td>0.000000</td>\n",
              "      <td>0.000000</td>\n",
              "      <td>0.000000</td>\n",
              "      <td>0.000000</td>\n",
              "      <td>0.000000</td>\n",
              "      <td>0.000000</td>\n",
              "      <td>...</td>\n",
              "      <td>0.000000</td>\n",
              "      <td>0.000000</td>\n",
              "      <td>0.000000</td>\n",
              "      <td>0.000000</td>\n",
              "      <td>0.000000</td>\n",
              "      <td>0.000000</td>\n",
              "      <td>0.000000</td>\n",
              "      <td>0.000000</td>\n",
              "      <td>0.000000</td>\n",
              "      <td>0.000000</td>\n",
              "    </tr>\n",
              "    <tr>\n",
              "      <th>50%</th>\n",
              "      <td>7944.500000</td>\n",
              "      <td>0.000000</td>\n",
              "      <td>0.000000</td>\n",
              "      <td>0.000000</td>\n",
              "      <td>0.000000</td>\n",
              "      <td>0.000000</td>\n",
              "      <td>0.000000</td>\n",
              "      <td>0.000000</td>\n",
              "      <td>1.000000</td>\n",
              "      <td>1.000000</td>\n",
              "      <td>...</td>\n",
              "      <td>1.000000</td>\n",
              "      <td>1.000000</td>\n",
              "      <td>1.000000</td>\n",
              "      <td>1.000000</td>\n",
              "      <td>1.000000</td>\n",
              "      <td>1.000000</td>\n",
              "      <td>1.000000</td>\n",
              "      <td>1.000000</td>\n",
              "      <td>1.000000</td>\n",
              "      <td>1.000000</td>\n",
              "    </tr>\n",
              "    <tr>\n",
              "      <th>75%</th>\n",
              "      <td>11916.750000</td>\n",
              "      <td>1.000000</td>\n",
              "      <td>1.000000</td>\n",
              "      <td>1.000000</td>\n",
              "      <td>1.000000</td>\n",
              "      <td>2.000000</td>\n",
              "      <td>3.000000</td>\n",
              "      <td>3.000000</td>\n",
              "      <td>3.000000</td>\n",
              "      <td>3.000000</td>\n",
              "      <td>...</td>\n",
              "      <td>3.000000</td>\n",
              "      <td>3.000000</td>\n",
              "      <td>3.000000</td>\n",
              "      <td>4.000000</td>\n",
              "      <td>4.000000</td>\n",
              "      <td>4.000000</td>\n",
              "      <td>4.000000</td>\n",
              "      <td>4.000000</td>\n",
              "      <td>4.000000</td>\n",
              "      <td>4.000000</td>\n",
              "    </tr>\n",
              "    <tr>\n",
              "      <th>max</th>\n",
              "      <td>15889.000000</td>\n",
              "      <td>4928.000000</td>\n",
              "      <td>4287.000000</td>\n",
              "      <td>4318.000000</td>\n",
              "      <td>7924.000000</td>\n",
              "      <td>6141.000000</td>\n",
              "      <td>5531.000000</td>\n",
              "      <td>4807.000000</td>\n",
              "      <td>4900.000000</td>\n",
              "      <td>5372.000000</td>\n",
              "      <td>...</td>\n",
              "      <td>4872.000000</td>\n",
              "      <td>4156.000000</td>\n",
              "      <td>3823.000000</td>\n",
              "      <td>3942.000000</td>\n",
              "      <td>4450.000000</td>\n",
              "      <td>4839.000000</td>\n",
              "      <td>4751.000000</td>\n",
              "      <td>4324.000000</td>\n",
              "      <td>3953.000000</td>\n",
              "      <td>3682.000000</td>\n",
              "    </tr>\n",
              "  </tbody>\n",
              "</table>\n",
              "<p>8 rows × 22 columns</p>\n",
              "</div>\n",
              "    <div class=\"colab-df-buttons\">\n",
              "\n",
              "  <div class=\"colab-df-container\">\n",
              "    <button class=\"colab-df-convert\" onclick=\"convertToInteractive('df-089a54b2-5ac7-40f9-a99f-435bb525eae7')\"\n",
              "            title=\"Convert this dataframe to an interactive table.\"\n",
              "            style=\"display:none;\">\n",
              "\n",
              "  <svg xmlns=\"http://www.w3.org/2000/svg\" height=\"24px\" viewBox=\"0 -960 960 960\">\n",
              "    <path d=\"M120-120v-720h720v720H120Zm60-500h600v-160H180v160Zm220 220h160v-160H400v160Zm0 220h160v-160H400v160ZM180-400h160v-160H180v160Zm440 0h160v-160H620v160ZM180-180h160v-160H180v160Zm440 0h160v-160H620v160Z\"/>\n",
              "  </svg>\n",
              "    </button>\n",
              "\n",
              "  <style>\n",
              "    .colab-df-container {\n",
              "      display:flex;\n",
              "      gap: 12px;\n",
              "    }\n",
              "\n",
              "    .colab-df-convert {\n",
              "      background-color: #E8F0FE;\n",
              "      border: none;\n",
              "      border-radius: 50%;\n",
              "      cursor: pointer;\n",
              "      display: none;\n",
              "      fill: #1967D2;\n",
              "      height: 32px;\n",
              "      padding: 0 0 0 0;\n",
              "      width: 32px;\n",
              "    }\n",
              "\n",
              "    .colab-df-convert:hover {\n",
              "      background-color: #E2EBFA;\n",
              "      box-shadow: 0px 1px 2px rgba(60, 64, 67, 0.3), 0px 1px 3px 1px rgba(60, 64, 67, 0.15);\n",
              "      fill: #174EA6;\n",
              "    }\n",
              "\n",
              "    .colab-df-buttons div {\n",
              "      margin-bottom: 4px;\n",
              "    }\n",
              "\n",
              "    [theme=dark] .colab-df-convert {\n",
              "      background-color: #3B4455;\n",
              "      fill: #D2E3FC;\n",
              "    }\n",
              "\n",
              "    [theme=dark] .colab-df-convert:hover {\n",
              "      background-color: #434B5C;\n",
              "      box-shadow: 0px 1px 3px 1px rgba(0, 0, 0, 0.15);\n",
              "      filter: drop-shadow(0px 1px 2px rgba(0, 0, 0, 0.3));\n",
              "      fill: #FFFFFF;\n",
              "    }\n",
              "  </style>\n",
              "\n",
              "    <script>\n",
              "      const buttonEl =\n",
              "        document.querySelector('#df-089a54b2-5ac7-40f9-a99f-435bb525eae7 button.colab-df-convert');\n",
              "      buttonEl.style.display =\n",
              "        google.colab.kernel.accessAllowed ? 'block' : 'none';\n",
              "\n",
              "      async function convertToInteractive(key) {\n",
              "        const element = document.querySelector('#df-089a54b2-5ac7-40f9-a99f-435bb525eae7');\n",
              "        const dataTable =\n",
              "          await google.colab.kernel.invokeFunction('convertToInteractive',\n",
              "                                                    [key], {});\n",
              "        if (!dataTable) return;\n",
              "\n",
              "        const docLinkHtml = 'Like what you see? Visit the ' +\n",
              "          '<a target=\"_blank\" href=https://colab.research.google.com/notebooks/data_table.ipynb>data table notebook</a>'\n",
              "          + ' to learn more about interactive tables.';\n",
              "        element.innerHTML = '';\n",
              "        dataTable['output_type'] = 'display_data';\n",
              "        await google.colab.output.renderOutput(dataTable, element);\n",
              "        const docLink = document.createElement('div');\n",
              "        docLink.innerHTML = docLinkHtml;\n",
              "        element.appendChild(docLink);\n",
              "      }\n",
              "    </script>\n",
              "  </div>\n",
              "\n",
              "\n",
              "<div id=\"df-037288cd-7247-4acd-99e5-49ab81a9ab4c\">\n",
              "  <button class=\"colab-df-quickchart\" onclick=\"quickchart('df-037288cd-7247-4acd-99e5-49ab81a9ab4c')\"\n",
              "            title=\"Suggest charts.\"\n",
              "            style=\"display:none;\">\n",
              "\n",
              "<svg xmlns=\"http://www.w3.org/2000/svg\" height=\"24px\"viewBox=\"0 0 24 24\"\n",
              "     width=\"24px\">\n",
              "    <g>\n",
              "        <path d=\"M19 3H5c-1.1 0-2 .9-2 2v14c0 1.1.9 2 2 2h14c1.1 0 2-.9 2-2V5c0-1.1-.9-2-2-2zM9 17H7v-7h2v7zm4 0h-2V7h2v10zm4 0h-2v-4h2v4z\"/>\n",
              "    </g>\n",
              "</svg>\n",
              "  </button>\n",
              "\n",
              "<style>\n",
              "  .colab-df-quickchart {\n",
              "      --bg-color: #E8F0FE;\n",
              "      --fill-color: #1967D2;\n",
              "      --hover-bg-color: #E2EBFA;\n",
              "      --hover-fill-color: #174EA6;\n",
              "      --disabled-fill-color: #AAA;\n",
              "      --disabled-bg-color: #DDD;\n",
              "  }\n",
              "\n",
              "  [theme=dark] .colab-df-quickchart {\n",
              "      --bg-color: #3B4455;\n",
              "      --fill-color: #D2E3FC;\n",
              "      --hover-bg-color: #434B5C;\n",
              "      --hover-fill-color: #FFFFFF;\n",
              "      --disabled-bg-color: #3B4455;\n",
              "      --disabled-fill-color: #666;\n",
              "  }\n",
              "\n",
              "  .colab-df-quickchart {\n",
              "    background-color: var(--bg-color);\n",
              "    border: none;\n",
              "    border-radius: 50%;\n",
              "    cursor: pointer;\n",
              "    display: none;\n",
              "    fill: var(--fill-color);\n",
              "    height: 32px;\n",
              "    padding: 0;\n",
              "    width: 32px;\n",
              "  }\n",
              "\n",
              "  .colab-df-quickchart:hover {\n",
              "    background-color: var(--hover-bg-color);\n",
              "    box-shadow: 0 1px 2px rgba(60, 64, 67, 0.3), 0 1px 3px 1px rgba(60, 64, 67, 0.15);\n",
              "    fill: var(--button-hover-fill-color);\n",
              "  }\n",
              "\n",
              "  .colab-df-quickchart-complete:disabled,\n",
              "  .colab-df-quickchart-complete:disabled:hover {\n",
              "    background-color: var(--disabled-bg-color);\n",
              "    fill: var(--disabled-fill-color);\n",
              "    box-shadow: none;\n",
              "  }\n",
              "\n",
              "  .colab-df-spinner {\n",
              "    border: 2px solid var(--fill-color);\n",
              "    border-color: transparent;\n",
              "    border-bottom-color: var(--fill-color);\n",
              "    animation:\n",
              "      spin 1s steps(1) infinite;\n",
              "  }\n",
              "\n",
              "  @keyframes spin {\n",
              "    0% {\n",
              "      border-color: transparent;\n",
              "      border-bottom-color: var(--fill-color);\n",
              "      border-left-color: var(--fill-color);\n",
              "    }\n",
              "    20% {\n",
              "      border-color: transparent;\n",
              "      border-left-color: var(--fill-color);\n",
              "      border-top-color: var(--fill-color);\n",
              "    }\n",
              "    30% {\n",
              "      border-color: transparent;\n",
              "      border-left-color: var(--fill-color);\n",
              "      border-top-color: var(--fill-color);\n",
              "      border-right-color: var(--fill-color);\n",
              "    }\n",
              "    40% {\n",
              "      border-color: transparent;\n",
              "      border-right-color: var(--fill-color);\n",
              "      border-top-color: var(--fill-color);\n",
              "    }\n",
              "    60% {\n",
              "      border-color: transparent;\n",
              "      border-right-color: var(--fill-color);\n",
              "    }\n",
              "    80% {\n",
              "      border-color: transparent;\n",
              "      border-right-color: var(--fill-color);\n",
              "      border-bottom-color: var(--fill-color);\n",
              "    }\n",
              "    90% {\n",
              "      border-color: transparent;\n",
              "      border-bottom-color: var(--fill-color);\n",
              "    }\n",
              "  }\n",
              "</style>\n",
              "\n",
              "  <script>\n",
              "    async function quickchart(key) {\n",
              "      const quickchartButtonEl =\n",
              "        document.querySelector('#' + key + ' button');\n",
              "      quickchartButtonEl.disabled = true;  // To prevent multiple clicks.\n",
              "      quickchartButtonEl.classList.add('colab-df-spinner');\n",
              "      try {\n",
              "        const charts = await google.colab.kernel.invokeFunction(\n",
              "            'suggestCharts', [key], {});\n",
              "      } catch (error) {\n",
              "        console.error('Error during call to suggestCharts:', error);\n",
              "      }\n",
              "      quickchartButtonEl.classList.remove('colab-df-spinner');\n",
              "      quickchartButtonEl.classList.add('colab-df-quickchart-complete');\n",
              "    }\n",
              "    (() => {\n",
              "      let quickchartButtonEl =\n",
              "        document.querySelector('#df-037288cd-7247-4acd-99e5-49ab81a9ab4c button');\n",
              "      quickchartButtonEl.style.display =\n",
              "        google.colab.kernel.accessAllowed ? 'block' : 'none';\n",
              "    })();\n",
              "  </script>\n",
              "</div>\n",
              "    </div>\n",
              "  </div>\n"
            ]
          },
          "metadata": {},
          "execution_count": 7
        }
      ]
    },
    {
      "cell_type": "code",
      "source": [
        "train_data = pd.read_csv('./Part2/train.csv').drop(columns=['ID', '제품'])\n",
        "\n",
        "ids = train_data.index[train_data.iloc[:,422:456].sum(axis=1)==0]\n",
        "around = list(range(422-7,422))+list(range(457,463))\n",
        "mean = train_data.iloc[ids,around].mean(axis=1)\n",
        "mean = mean.values.reshape(-1,1)\n",
        "\n",
        "replace_data = np.column_stack([mean for i in range(34)])\n",
        "train_data.iloc[ids,422:456] = replace_data\n",
        "\n",
        "m = (train_data.iloc[:,4:][train_data.iloc[:,4:]!=0]).mean(axis=1)\n",
        "s = (train_data.iloc[:,4:][train_data.iloc[:,4:]!=0]).std(axis=1)\n",
        "\n",
        "upper = m+3*s\n",
        "\n",
        "temp = train_data.iloc[:,4:].T\n",
        "def replace(column,upper):\n",
        "    column_index = temp.columns.get_loc(column.name)\n",
        "    u = upper[column_index]\n",
        "    ret = np.where(column>u,u,column)\n",
        "    return ret\n",
        "\n",
        "temp = temp.apply(lambda x:replace(x,upper))\n",
        "train_data.iloc[:,4:] = temp.T"
      ],
      "metadata": {
        "id": "yb3gNIlVR0B0"
      },
      "id": "yb3gNIlVR0B0",
      "execution_count": null,
      "outputs": []
    },
    {
      "cell_type": "code",
      "source": [
        "train_data = train_data.iloc[:,4:]\n",
        "\n",
        "idx = []\n",
        "for i in range(len(train_data)):\n",
        "    if train_data.iloc[i,:].sum(axis=0) == 0:\n",
        "        idx.append(i)\n",
        "\n",
        "train_data = train_data.replace(0, np.NaN)\n",
        "train_data.iloc[idx,:] = 0\n",
        "data = np.array(train_data)\n",
        "median = np.nanmedian(data, axis=1)\n",
        "\n",
        "submit_temp = np.array(submit.iloc[:,1:])\n",
        "\n",
        "for idx in range(len(submit_temp)):\n",
        "    submit_temp[idx,:] = np.where(submit_temp[idx,:]<1, max(median[idx],1), submit_temp[idx,:])\n",
        "\n",
        "submit.iloc[:,1:] = submit_temp"
      ],
      "metadata": {
        "id": "KRfnxv06Yjb4"
      },
      "id": "KRfnxv06Yjb4",
      "execution_count": null,
      "outputs": []
    },
    {
      "cell_type": "code",
      "source": [
        "submit.describe()"
      ],
      "metadata": {
        "colab": {
          "base_uri": "https://localhost:8080/",
          "height": 329
        },
        "id": "KAd68kxknT6K",
        "outputId": "b671ce25-2917-4ca3-8622-ab7639078776"
      },
      "id": "KAd68kxknT6K",
      "execution_count": null,
      "outputs": [
        {
          "output_type": "execute_result",
          "data": {
            "text/plain": [
              "                 ID    2023-04-05    2023-04-06    2023-04-07    2023-04-08  \\\n",
              "count  15890.000000  15890.000000  15890.000000  15890.000000  15890.000000   \n",
              "mean    7944.500000     15.482756     17.752360     18.022089     21.741221   \n",
              "std     4587.192224    106.551789    120.021059    114.085310    252.159961   \n",
              "min        0.000000      1.000000      1.000000      1.000000      1.000000   \n",
              "25%     3972.250000      1.000000      1.000000      1.000000      1.000000   \n",
              "50%     7944.500000      3.000000      3.000000      3.000000      3.000000   \n",
              "75%    11916.750000      7.000000      8.000000      8.000000      9.000000   \n",
              "max    15889.000000   6200.000000   6200.000000   5616.000000  26082.000000   \n",
              "\n",
              "         2023-04-09    2023-04-10    2023-04-11    2023-04-12    2023-04-13  \\\n",
              "count  15890.000000  15890.000000  15890.000000  15890.000000  15890.000000   \n",
              "mean      15.580302     13.203587     12.258276     12.583575     12.949654   \n",
              "std      114.972335     95.591012     83.415568     84.931964     89.691141   \n",
              "min        1.000000      1.000000      1.000000      1.000000      1.000000   \n",
              "25%        1.000000      1.000000      1.000000      1.000000      1.000000   \n",
              "50%        3.000000      2.000000      2.000000      2.000000      2.000000   \n",
              "75%        7.000000      6.000000      6.000000      6.000000      6.000000   \n",
              "max     6141.000000   5531.000000   4807.000000   4900.000000   5372.000000   \n",
              "\n",
              "       ...    2023-04-16    2023-04-17    2023-04-18    2023-04-19  \\\n",
              "count  ...  15890.000000  15890.000000  15890.000000  15890.000000   \n",
              "mean   ...     12.010510     11.777218     11.713971     12.419887   \n",
              "std    ...     79.588165     76.996726     75.930825     81.507430   \n",
              "min    ...      1.000000      1.000000      1.000000      1.000000   \n",
              "25%    ...      1.000000      1.000000      1.000000      1.000000   \n",
              "50%    ...      2.000000      2.000000      2.000000      2.000000   \n",
              "75%    ...      5.000000      5.000000      5.000000      5.000000   \n",
              "max    ...   4872.000000   4156.000000   3823.000000   3942.000000   \n",
              "\n",
              "         2023-04-20    2023-04-21    2023-04-22    2023-04-23    2023-04-24  \\\n",
              "count  15890.000000  15890.000000  15890.000000  15890.000000  15890.000000   \n",
              "mean      13.100126     13.159849     12.995721     12.659094     12.303084   \n",
              "std       90.219289     90.538385     87.811656     83.958360     79.986822   \n",
              "min        1.000000      1.000000      1.000000      1.000000      1.000000   \n",
              "25%        1.000000      1.000000      1.000000      1.000000      1.000000   \n",
              "50%        2.000000      2.000000      2.000000      2.000000      2.000000   \n",
              "75%        5.000000      5.000000      5.000000      5.000000      5.000000   \n",
              "max     4450.000000   4839.000000   4751.000000   4324.000000   3953.000000   \n",
              "\n",
              "         2023-04-25  \n",
              "count  15890.000000  \n",
              "mean      12.524418  \n",
              "std       81.207072  \n",
              "min        1.000000  \n",
              "25%        1.000000  \n",
              "50%        2.000000  \n",
              "75%        5.000000  \n",
              "max     3682.000000  \n",
              "\n",
              "[8 rows x 22 columns]"
            ],
            "text/html": [
              "\n",
              "  <div id=\"df-f7fd4bf6-dbd4-4889-aa2e-2fc693fb7d76\" class=\"colab-df-container\">\n",
              "    <div>\n",
              "<style scoped>\n",
              "    .dataframe tbody tr th:only-of-type {\n",
              "        vertical-align: middle;\n",
              "    }\n",
              "\n",
              "    .dataframe tbody tr th {\n",
              "        vertical-align: top;\n",
              "    }\n",
              "\n",
              "    .dataframe thead th {\n",
              "        text-align: right;\n",
              "    }\n",
              "</style>\n",
              "<table border=\"1\" class=\"dataframe\">\n",
              "  <thead>\n",
              "    <tr style=\"text-align: right;\">\n",
              "      <th></th>\n",
              "      <th>ID</th>\n",
              "      <th>2023-04-05</th>\n",
              "      <th>2023-04-06</th>\n",
              "      <th>2023-04-07</th>\n",
              "      <th>2023-04-08</th>\n",
              "      <th>2023-04-09</th>\n",
              "      <th>2023-04-10</th>\n",
              "      <th>2023-04-11</th>\n",
              "      <th>2023-04-12</th>\n",
              "      <th>2023-04-13</th>\n",
              "      <th>...</th>\n",
              "      <th>2023-04-16</th>\n",
              "      <th>2023-04-17</th>\n",
              "      <th>2023-04-18</th>\n",
              "      <th>2023-04-19</th>\n",
              "      <th>2023-04-20</th>\n",
              "      <th>2023-04-21</th>\n",
              "      <th>2023-04-22</th>\n",
              "      <th>2023-04-23</th>\n",
              "      <th>2023-04-24</th>\n",
              "      <th>2023-04-25</th>\n",
              "    </tr>\n",
              "  </thead>\n",
              "  <tbody>\n",
              "    <tr>\n",
              "      <th>count</th>\n",
              "      <td>15890.000000</td>\n",
              "      <td>15890.000000</td>\n",
              "      <td>15890.000000</td>\n",
              "      <td>15890.000000</td>\n",
              "      <td>15890.000000</td>\n",
              "      <td>15890.000000</td>\n",
              "      <td>15890.000000</td>\n",
              "      <td>15890.000000</td>\n",
              "      <td>15890.000000</td>\n",
              "      <td>15890.000000</td>\n",
              "      <td>...</td>\n",
              "      <td>15890.000000</td>\n",
              "      <td>15890.000000</td>\n",
              "      <td>15890.000000</td>\n",
              "      <td>15890.000000</td>\n",
              "      <td>15890.000000</td>\n",
              "      <td>15890.000000</td>\n",
              "      <td>15890.000000</td>\n",
              "      <td>15890.000000</td>\n",
              "      <td>15890.000000</td>\n",
              "      <td>15890.000000</td>\n",
              "    </tr>\n",
              "    <tr>\n",
              "      <th>mean</th>\n",
              "      <td>7944.500000</td>\n",
              "      <td>15.482756</td>\n",
              "      <td>17.752360</td>\n",
              "      <td>18.022089</td>\n",
              "      <td>21.741221</td>\n",
              "      <td>15.580302</td>\n",
              "      <td>13.203587</td>\n",
              "      <td>12.258276</td>\n",
              "      <td>12.583575</td>\n",
              "      <td>12.949654</td>\n",
              "      <td>...</td>\n",
              "      <td>12.010510</td>\n",
              "      <td>11.777218</td>\n",
              "      <td>11.713971</td>\n",
              "      <td>12.419887</td>\n",
              "      <td>13.100126</td>\n",
              "      <td>13.159849</td>\n",
              "      <td>12.995721</td>\n",
              "      <td>12.659094</td>\n",
              "      <td>12.303084</td>\n",
              "      <td>12.524418</td>\n",
              "    </tr>\n",
              "    <tr>\n",
              "      <th>std</th>\n",
              "      <td>4587.192224</td>\n",
              "      <td>106.551789</td>\n",
              "      <td>120.021059</td>\n",
              "      <td>114.085310</td>\n",
              "      <td>252.159961</td>\n",
              "      <td>114.972335</td>\n",
              "      <td>95.591012</td>\n",
              "      <td>83.415568</td>\n",
              "      <td>84.931964</td>\n",
              "      <td>89.691141</td>\n",
              "      <td>...</td>\n",
              "      <td>79.588165</td>\n",
              "      <td>76.996726</td>\n",
              "      <td>75.930825</td>\n",
              "      <td>81.507430</td>\n",
              "      <td>90.219289</td>\n",
              "      <td>90.538385</td>\n",
              "      <td>87.811656</td>\n",
              "      <td>83.958360</td>\n",
              "      <td>79.986822</td>\n",
              "      <td>81.207072</td>\n",
              "    </tr>\n",
              "    <tr>\n",
              "      <th>min</th>\n",
              "      <td>0.000000</td>\n",
              "      <td>1.000000</td>\n",
              "      <td>1.000000</td>\n",
              "      <td>1.000000</td>\n",
              "      <td>1.000000</td>\n",
              "      <td>1.000000</td>\n",
              "      <td>1.000000</td>\n",
              "      <td>1.000000</td>\n",
              "      <td>1.000000</td>\n",
              "      <td>1.000000</td>\n",
              "      <td>...</td>\n",
              "      <td>1.000000</td>\n",
              "      <td>1.000000</td>\n",
              "      <td>1.000000</td>\n",
              "      <td>1.000000</td>\n",
              "      <td>1.000000</td>\n",
              "      <td>1.000000</td>\n",
              "      <td>1.000000</td>\n",
              "      <td>1.000000</td>\n",
              "      <td>1.000000</td>\n",
              "      <td>1.000000</td>\n",
              "    </tr>\n",
              "    <tr>\n",
              "      <th>25%</th>\n",
              "      <td>3972.250000</td>\n",
              "      <td>1.000000</td>\n",
              "      <td>1.000000</td>\n",
              "      <td>1.000000</td>\n",
              "      <td>1.000000</td>\n",
              "      <td>1.000000</td>\n",
              "      <td>1.000000</td>\n",
              "      <td>1.000000</td>\n",
              "      <td>1.000000</td>\n",
              "      <td>1.000000</td>\n",
              "      <td>...</td>\n",
              "      <td>1.000000</td>\n",
              "      <td>1.000000</td>\n",
              "      <td>1.000000</td>\n",
              "      <td>1.000000</td>\n",
              "      <td>1.000000</td>\n",
              "      <td>1.000000</td>\n",
              "      <td>1.000000</td>\n",
              "      <td>1.000000</td>\n",
              "      <td>1.000000</td>\n",
              "      <td>1.000000</td>\n",
              "    </tr>\n",
              "    <tr>\n",
              "      <th>50%</th>\n",
              "      <td>7944.500000</td>\n",
              "      <td>3.000000</td>\n",
              "      <td>3.000000</td>\n",
              "      <td>3.000000</td>\n",
              "      <td>3.000000</td>\n",
              "      <td>3.000000</td>\n",
              "      <td>2.000000</td>\n",
              "      <td>2.000000</td>\n",
              "      <td>2.000000</td>\n",
              "      <td>2.000000</td>\n",
              "      <td>...</td>\n",
              "      <td>2.000000</td>\n",
              "      <td>2.000000</td>\n",
              "      <td>2.000000</td>\n",
              "      <td>2.000000</td>\n",
              "      <td>2.000000</td>\n",
              "      <td>2.000000</td>\n",
              "      <td>2.000000</td>\n",
              "      <td>2.000000</td>\n",
              "      <td>2.000000</td>\n",
              "      <td>2.000000</td>\n",
              "    </tr>\n",
              "    <tr>\n",
              "      <th>75%</th>\n",
              "      <td>11916.750000</td>\n",
              "      <td>7.000000</td>\n",
              "      <td>8.000000</td>\n",
              "      <td>8.000000</td>\n",
              "      <td>9.000000</td>\n",
              "      <td>7.000000</td>\n",
              "      <td>6.000000</td>\n",
              "      <td>6.000000</td>\n",
              "      <td>6.000000</td>\n",
              "      <td>6.000000</td>\n",
              "      <td>...</td>\n",
              "      <td>5.000000</td>\n",
              "      <td>5.000000</td>\n",
              "      <td>5.000000</td>\n",
              "      <td>5.000000</td>\n",
              "      <td>5.000000</td>\n",
              "      <td>5.000000</td>\n",
              "      <td>5.000000</td>\n",
              "      <td>5.000000</td>\n",
              "      <td>5.000000</td>\n",
              "      <td>5.000000</td>\n",
              "    </tr>\n",
              "    <tr>\n",
              "      <th>max</th>\n",
              "      <td>15889.000000</td>\n",
              "      <td>6200.000000</td>\n",
              "      <td>6200.000000</td>\n",
              "      <td>5616.000000</td>\n",
              "      <td>26082.000000</td>\n",
              "      <td>6141.000000</td>\n",
              "      <td>5531.000000</td>\n",
              "      <td>4807.000000</td>\n",
              "      <td>4900.000000</td>\n",
              "      <td>5372.000000</td>\n",
              "      <td>...</td>\n",
              "      <td>4872.000000</td>\n",
              "      <td>4156.000000</td>\n",
              "      <td>3823.000000</td>\n",
              "      <td>3942.000000</td>\n",
              "      <td>4450.000000</td>\n",
              "      <td>4839.000000</td>\n",
              "      <td>4751.000000</td>\n",
              "      <td>4324.000000</td>\n",
              "      <td>3953.000000</td>\n",
              "      <td>3682.000000</td>\n",
              "    </tr>\n",
              "  </tbody>\n",
              "</table>\n",
              "<p>8 rows × 22 columns</p>\n",
              "</div>\n",
              "    <div class=\"colab-df-buttons\">\n",
              "\n",
              "  <div class=\"colab-df-container\">\n",
              "    <button class=\"colab-df-convert\" onclick=\"convertToInteractive('df-f7fd4bf6-dbd4-4889-aa2e-2fc693fb7d76')\"\n",
              "            title=\"Convert this dataframe to an interactive table.\"\n",
              "            style=\"display:none;\">\n",
              "\n",
              "  <svg xmlns=\"http://www.w3.org/2000/svg\" height=\"24px\" viewBox=\"0 -960 960 960\">\n",
              "    <path d=\"M120-120v-720h720v720H120Zm60-500h600v-160H180v160Zm220 220h160v-160H400v160Zm0 220h160v-160H400v160ZM180-400h160v-160H180v160Zm440 0h160v-160H620v160ZM180-180h160v-160H180v160Zm440 0h160v-160H620v160Z\"/>\n",
              "  </svg>\n",
              "    </button>\n",
              "\n",
              "  <style>\n",
              "    .colab-df-container {\n",
              "      display:flex;\n",
              "      gap: 12px;\n",
              "    }\n",
              "\n",
              "    .colab-df-convert {\n",
              "      background-color: #E8F0FE;\n",
              "      border: none;\n",
              "      border-radius: 50%;\n",
              "      cursor: pointer;\n",
              "      display: none;\n",
              "      fill: #1967D2;\n",
              "      height: 32px;\n",
              "      padding: 0 0 0 0;\n",
              "      width: 32px;\n",
              "    }\n",
              "\n",
              "    .colab-df-convert:hover {\n",
              "      background-color: #E2EBFA;\n",
              "      box-shadow: 0px 1px 2px rgba(60, 64, 67, 0.3), 0px 1px 3px 1px rgba(60, 64, 67, 0.15);\n",
              "      fill: #174EA6;\n",
              "    }\n",
              "\n",
              "    .colab-df-buttons div {\n",
              "      margin-bottom: 4px;\n",
              "    }\n",
              "\n",
              "    [theme=dark] .colab-df-convert {\n",
              "      background-color: #3B4455;\n",
              "      fill: #D2E3FC;\n",
              "    }\n",
              "\n",
              "    [theme=dark] .colab-df-convert:hover {\n",
              "      background-color: #434B5C;\n",
              "      box-shadow: 0px 1px 3px 1px rgba(0, 0, 0, 0.15);\n",
              "      filter: drop-shadow(0px 1px 2px rgba(0, 0, 0, 0.3));\n",
              "      fill: #FFFFFF;\n",
              "    }\n",
              "  </style>\n",
              "\n",
              "    <script>\n",
              "      const buttonEl =\n",
              "        document.querySelector('#df-f7fd4bf6-dbd4-4889-aa2e-2fc693fb7d76 button.colab-df-convert');\n",
              "      buttonEl.style.display =\n",
              "        google.colab.kernel.accessAllowed ? 'block' : 'none';\n",
              "\n",
              "      async function convertToInteractive(key) {\n",
              "        const element = document.querySelector('#df-f7fd4bf6-dbd4-4889-aa2e-2fc693fb7d76');\n",
              "        const dataTable =\n",
              "          await google.colab.kernel.invokeFunction('convertToInteractive',\n",
              "                                                    [key], {});\n",
              "        if (!dataTable) return;\n",
              "\n",
              "        const docLinkHtml = 'Like what you see? Visit the ' +\n",
              "          '<a target=\"_blank\" href=https://colab.research.google.com/notebooks/data_table.ipynb>data table notebook</a>'\n",
              "          + ' to learn more about interactive tables.';\n",
              "        element.innerHTML = '';\n",
              "        dataTable['output_type'] = 'display_data';\n",
              "        await google.colab.output.renderOutput(dataTable, element);\n",
              "        const docLink = document.createElement('div');\n",
              "        docLink.innerHTML = docLinkHtml;\n",
              "        element.appendChild(docLink);\n",
              "      }\n",
              "    </script>\n",
              "  </div>\n",
              "\n",
              "\n",
              "<div id=\"df-94226fb0-cf30-4c15-a151-08064f044d70\">\n",
              "  <button class=\"colab-df-quickchart\" onclick=\"quickchart('df-94226fb0-cf30-4c15-a151-08064f044d70')\"\n",
              "            title=\"Suggest charts.\"\n",
              "            style=\"display:none;\">\n",
              "\n",
              "<svg xmlns=\"http://www.w3.org/2000/svg\" height=\"24px\"viewBox=\"0 0 24 24\"\n",
              "     width=\"24px\">\n",
              "    <g>\n",
              "        <path d=\"M19 3H5c-1.1 0-2 .9-2 2v14c0 1.1.9 2 2 2h14c1.1 0 2-.9 2-2V5c0-1.1-.9-2-2-2zM9 17H7v-7h2v7zm4 0h-2V7h2v10zm4 0h-2v-4h2v4z\"/>\n",
              "    </g>\n",
              "</svg>\n",
              "  </button>\n",
              "\n",
              "<style>\n",
              "  .colab-df-quickchart {\n",
              "      --bg-color: #E8F0FE;\n",
              "      --fill-color: #1967D2;\n",
              "      --hover-bg-color: #E2EBFA;\n",
              "      --hover-fill-color: #174EA6;\n",
              "      --disabled-fill-color: #AAA;\n",
              "      --disabled-bg-color: #DDD;\n",
              "  }\n",
              "\n",
              "  [theme=dark] .colab-df-quickchart {\n",
              "      --bg-color: #3B4455;\n",
              "      --fill-color: #D2E3FC;\n",
              "      --hover-bg-color: #434B5C;\n",
              "      --hover-fill-color: #FFFFFF;\n",
              "      --disabled-bg-color: #3B4455;\n",
              "      --disabled-fill-color: #666;\n",
              "  }\n",
              "\n",
              "  .colab-df-quickchart {\n",
              "    background-color: var(--bg-color);\n",
              "    border: none;\n",
              "    border-radius: 50%;\n",
              "    cursor: pointer;\n",
              "    display: none;\n",
              "    fill: var(--fill-color);\n",
              "    height: 32px;\n",
              "    padding: 0;\n",
              "    width: 32px;\n",
              "  }\n",
              "\n",
              "  .colab-df-quickchart:hover {\n",
              "    background-color: var(--hover-bg-color);\n",
              "    box-shadow: 0 1px 2px rgba(60, 64, 67, 0.3), 0 1px 3px 1px rgba(60, 64, 67, 0.15);\n",
              "    fill: var(--button-hover-fill-color);\n",
              "  }\n",
              "\n",
              "  .colab-df-quickchart-complete:disabled,\n",
              "  .colab-df-quickchart-complete:disabled:hover {\n",
              "    background-color: var(--disabled-bg-color);\n",
              "    fill: var(--disabled-fill-color);\n",
              "    box-shadow: none;\n",
              "  }\n",
              "\n",
              "  .colab-df-spinner {\n",
              "    border: 2px solid var(--fill-color);\n",
              "    border-color: transparent;\n",
              "    border-bottom-color: var(--fill-color);\n",
              "    animation:\n",
              "      spin 1s steps(1) infinite;\n",
              "  }\n",
              "\n",
              "  @keyframes spin {\n",
              "    0% {\n",
              "      border-color: transparent;\n",
              "      border-bottom-color: var(--fill-color);\n",
              "      border-left-color: var(--fill-color);\n",
              "    }\n",
              "    20% {\n",
              "      border-color: transparent;\n",
              "      border-left-color: var(--fill-color);\n",
              "      border-top-color: var(--fill-color);\n",
              "    }\n",
              "    30% {\n",
              "      border-color: transparent;\n",
              "      border-left-color: var(--fill-color);\n",
              "      border-top-color: var(--fill-color);\n",
              "      border-right-color: var(--fill-color);\n",
              "    }\n",
              "    40% {\n",
              "      border-color: transparent;\n",
              "      border-right-color: var(--fill-color);\n",
              "      border-top-color: var(--fill-color);\n",
              "    }\n",
              "    60% {\n",
              "      border-color: transparent;\n",
              "      border-right-color: var(--fill-color);\n",
              "    }\n",
              "    80% {\n",
              "      border-color: transparent;\n",
              "      border-right-color: var(--fill-color);\n",
              "      border-bottom-color: var(--fill-color);\n",
              "    }\n",
              "    90% {\n",
              "      border-color: transparent;\n",
              "      border-bottom-color: var(--fill-color);\n",
              "    }\n",
              "  }\n",
              "</style>\n",
              "\n",
              "  <script>\n",
              "    async function quickchart(key) {\n",
              "      const quickchartButtonEl =\n",
              "        document.querySelector('#' + key + ' button');\n",
              "      quickchartButtonEl.disabled = true;  // To prevent multiple clicks.\n",
              "      quickchartButtonEl.classList.add('colab-df-spinner');\n",
              "      try {\n",
              "        const charts = await google.colab.kernel.invokeFunction(\n",
              "            'suggestCharts', [key], {});\n",
              "      } catch (error) {\n",
              "        console.error('Error during call to suggestCharts:', error);\n",
              "      }\n",
              "      quickchartButtonEl.classList.remove('colab-df-spinner');\n",
              "      quickchartButtonEl.classList.add('colab-df-quickchart-complete');\n",
              "    }\n",
              "    (() => {\n",
              "      let quickchartButtonEl =\n",
              "        document.querySelector('#df-94226fb0-cf30-4c15-a151-08064f044d70 button');\n",
              "      quickchartButtonEl.style.display =\n",
              "        google.colab.kernel.accessAllowed ? 'block' : 'none';\n",
              "    })();\n",
              "  </script>\n",
              "</div>\n",
              "    </div>\n",
              "  </div>\n"
            ]
          },
          "metadata": {},
          "execution_count": 11
        }
      ]
    },
    {
      "cell_type": "code",
      "execution_count": null,
      "metadata": {
        "id": "4142f749-f20f-4797-b586-581e5c778297"
      },
      "outputs": [],
      "source": [
        "submit_path = 'submit_informer'\n",
        "submit.to_csv(f'../submit_files/{submit_path}.csv', index=False)"
      ],
      "id": "4142f749-f20f-4797-b586-581e5c778297"
    }
  ],
  "metadata": {
    "colab": {
      "machine_shape": "hm",
      "provenance": [],
      "gpuType": "A100"
    },
    "kernelspec": {
      "display_name": "Python 3",
      "name": "python3"
    },
    "language_info": {
      "codemirror_mode": {
        "name": "ipython",
        "version": 3
      },
      "file_extension": ".py",
      "mimetype": "text/x-python",
      "name": "python",
      "nbconvert_exporter": "python",
      "pygments_lexer": "ipython3",
      "version": "3.9.0"
    },
    "widgets": {
      "application/vnd.jupyter.widget-state+json": {
        "88e49781d66044b9ac35f813b038b449": {
          "model_module": "@jupyter-widgets/controls",
          "model_name": "HBoxModel",
          "model_module_version": "1.5.0",
          "state": {
            "_dom_classes": [],
            "_model_module": "@jupyter-widgets/controls",
            "_model_module_version": "1.5.0",
            "_model_name": "HBoxModel",
            "_view_count": null,
            "_view_module": "@jupyter-widgets/controls",
            "_view_module_version": "1.5.0",
            "_view_name": "HBoxView",
            "box_style": "",
            "children": [
              "IPY_MODEL_e3ad46ec13314ebc9291cfca8f56d14d",
              "IPY_MODEL_64188437eb4e4223b52395d93365edc9",
              "IPY_MODEL_8a68ae0d326f47f4909492e3a51d4159"
            ],
            "layout": "IPY_MODEL_6ff3ffeac214443aaecbbca926e35927"
          }
        },
        "e3ad46ec13314ebc9291cfca8f56d14d": {
          "model_module": "@jupyter-widgets/controls",
          "model_name": "HTMLModel",
          "model_module_version": "1.5.0",
          "state": {
            "_dom_classes": [],
            "_model_module": "@jupyter-widgets/controls",
            "_model_module_version": "1.5.0",
            "_model_name": "HTMLModel",
            "_view_count": null,
            "_view_module": "@jupyter-widgets/controls",
            "_view_module_version": "1.5.0",
            "_view_name": "HTMLView",
            "description": "",
            "description_tooltip": null,
            "layout": "IPY_MODEL_a833c1113e794e20b1046dbc6af5ed7f",
            "placeholder": "​",
            "style": "IPY_MODEL_5b88a0a2875740eaa7dd6adfe982785d",
            "value": "100%"
          }
        },
        "64188437eb4e4223b52395d93365edc9": {
          "model_module": "@jupyter-widgets/controls",
          "model_name": "FloatProgressModel",
          "model_module_version": "1.5.0",
          "state": {
            "_dom_classes": [],
            "_model_module": "@jupyter-widgets/controls",
            "_model_module_version": "1.5.0",
            "_model_name": "FloatProgressModel",
            "_view_count": null,
            "_view_module": "@jupyter-widgets/controls",
            "_view_module_version": "1.5.0",
            "_view_name": "ProgressView",
            "bar_style": "success",
            "description": "",
            "description_tooltip": null,
            "layout": "IPY_MODEL_64887c72b97c47e9a666397c78b47ff5",
            "max": 15890,
            "min": 0,
            "orientation": "horizontal",
            "style": "IPY_MODEL_979abcd7c9cf4733a38fbff8172c00d6",
            "value": 15890
          }
        },
        "8a68ae0d326f47f4909492e3a51d4159": {
          "model_module": "@jupyter-widgets/controls",
          "model_name": "HTMLModel",
          "model_module_version": "1.5.0",
          "state": {
            "_dom_classes": [],
            "_model_module": "@jupyter-widgets/controls",
            "_model_module_version": "1.5.0",
            "_model_name": "HTMLModel",
            "_view_count": null,
            "_view_module": "@jupyter-widgets/controls",
            "_view_module_version": "1.5.0",
            "_view_name": "HTMLView",
            "description": "",
            "description_tooltip": null,
            "layout": "IPY_MODEL_05ea41fa63dc4e1e8461ab94dc2c3ee5",
            "placeholder": "​",
            "style": "IPY_MODEL_79f602882c43462b8d8029b8d433c896",
            "value": " 15890/15890 [03:42&lt;00:00, 71.70it/s]"
          }
        },
        "6ff3ffeac214443aaecbbca926e35927": {
          "model_module": "@jupyter-widgets/base",
          "model_name": "LayoutModel",
          "model_module_version": "1.2.0",
          "state": {
            "_model_module": "@jupyter-widgets/base",
            "_model_module_version": "1.2.0",
            "_model_name": "LayoutModel",
            "_view_count": null,
            "_view_module": "@jupyter-widgets/base",
            "_view_module_version": "1.2.0",
            "_view_name": "LayoutView",
            "align_content": null,
            "align_items": null,
            "align_self": null,
            "border": null,
            "bottom": null,
            "display": null,
            "flex": null,
            "flex_flow": null,
            "grid_area": null,
            "grid_auto_columns": null,
            "grid_auto_flow": null,
            "grid_auto_rows": null,
            "grid_column": null,
            "grid_gap": null,
            "grid_row": null,
            "grid_template_areas": null,
            "grid_template_columns": null,
            "grid_template_rows": null,
            "height": null,
            "justify_content": null,
            "justify_items": null,
            "left": null,
            "margin": null,
            "max_height": null,
            "max_width": null,
            "min_height": null,
            "min_width": null,
            "object_fit": null,
            "object_position": null,
            "order": null,
            "overflow": null,
            "overflow_x": null,
            "overflow_y": null,
            "padding": null,
            "right": null,
            "top": null,
            "visibility": null,
            "width": null
          }
        },
        "a833c1113e794e20b1046dbc6af5ed7f": {
          "model_module": "@jupyter-widgets/base",
          "model_name": "LayoutModel",
          "model_module_version": "1.2.0",
          "state": {
            "_model_module": "@jupyter-widgets/base",
            "_model_module_version": "1.2.0",
            "_model_name": "LayoutModel",
            "_view_count": null,
            "_view_module": "@jupyter-widgets/base",
            "_view_module_version": "1.2.0",
            "_view_name": "LayoutView",
            "align_content": null,
            "align_items": null,
            "align_self": null,
            "border": null,
            "bottom": null,
            "display": null,
            "flex": null,
            "flex_flow": null,
            "grid_area": null,
            "grid_auto_columns": null,
            "grid_auto_flow": null,
            "grid_auto_rows": null,
            "grid_column": null,
            "grid_gap": null,
            "grid_row": null,
            "grid_template_areas": null,
            "grid_template_columns": null,
            "grid_template_rows": null,
            "height": null,
            "justify_content": null,
            "justify_items": null,
            "left": null,
            "margin": null,
            "max_height": null,
            "max_width": null,
            "min_height": null,
            "min_width": null,
            "object_fit": null,
            "object_position": null,
            "order": null,
            "overflow": null,
            "overflow_x": null,
            "overflow_y": null,
            "padding": null,
            "right": null,
            "top": null,
            "visibility": null,
            "width": null
          }
        },
        "5b88a0a2875740eaa7dd6adfe982785d": {
          "model_module": "@jupyter-widgets/controls",
          "model_name": "DescriptionStyleModel",
          "model_module_version": "1.5.0",
          "state": {
            "_model_module": "@jupyter-widgets/controls",
            "_model_module_version": "1.5.0",
            "_model_name": "DescriptionStyleModel",
            "_view_count": null,
            "_view_module": "@jupyter-widgets/base",
            "_view_module_version": "1.2.0",
            "_view_name": "StyleView",
            "description_width": ""
          }
        },
        "64887c72b97c47e9a666397c78b47ff5": {
          "model_module": "@jupyter-widgets/base",
          "model_name": "LayoutModel",
          "model_module_version": "1.2.0",
          "state": {
            "_model_module": "@jupyter-widgets/base",
            "_model_module_version": "1.2.0",
            "_model_name": "LayoutModel",
            "_view_count": null,
            "_view_module": "@jupyter-widgets/base",
            "_view_module_version": "1.2.0",
            "_view_name": "LayoutView",
            "align_content": null,
            "align_items": null,
            "align_self": null,
            "border": null,
            "bottom": null,
            "display": null,
            "flex": null,
            "flex_flow": null,
            "grid_area": null,
            "grid_auto_columns": null,
            "grid_auto_flow": null,
            "grid_auto_rows": null,
            "grid_column": null,
            "grid_gap": null,
            "grid_row": null,
            "grid_template_areas": null,
            "grid_template_columns": null,
            "grid_template_rows": null,
            "height": null,
            "justify_content": null,
            "justify_items": null,
            "left": null,
            "margin": null,
            "max_height": null,
            "max_width": null,
            "min_height": null,
            "min_width": null,
            "object_fit": null,
            "object_position": null,
            "order": null,
            "overflow": null,
            "overflow_x": null,
            "overflow_y": null,
            "padding": null,
            "right": null,
            "top": null,
            "visibility": null,
            "width": null
          }
        },
        "979abcd7c9cf4733a38fbff8172c00d6": {
          "model_module": "@jupyter-widgets/controls",
          "model_name": "ProgressStyleModel",
          "model_module_version": "1.5.0",
          "state": {
            "_model_module": "@jupyter-widgets/controls",
            "_model_module_version": "1.5.0",
            "_model_name": "ProgressStyleModel",
            "_view_count": null,
            "_view_module": "@jupyter-widgets/base",
            "_view_module_version": "1.2.0",
            "_view_name": "StyleView",
            "bar_color": null,
            "description_width": ""
          }
        },
        "05ea41fa63dc4e1e8461ab94dc2c3ee5": {
          "model_module": "@jupyter-widgets/base",
          "model_name": "LayoutModel",
          "model_module_version": "1.2.0",
          "state": {
            "_model_module": "@jupyter-widgets/base",
            "_model_module_version": "1.2.0",
            "_model_name": "LayoutModel",
            "_view_count": null,
            "_view_module": "@jupyter-widgets/base",
            "_view_module_version": "1.2.0",
            "_view_name": "LayoutView",
            "align_content": null,
            "align_items": null,
            "align_self": null,
            "border": null,
            "bottom": null,
            "display": null,
            "flex": null,
            "flex_flow": null,
            "grid_area": null,
            "grid_auto_columns": null,
            "grid_auto_flow": null,
            "grid_auto_rows": null,
            "grid_column": null,
            "grid_gap": null,
            "grid_row": null,
            "grid_template_areas": null,
            "grid_template_columns": null,
            "grid_template_rows": null,
            "height": null,
            "justify_content": null,
            "justify_items": null,
            "left": null,
            "margin": null,
            "max_height": null,
            "max_width": null,
            "min_height": null,
            "min_width": null,
            "object_fit": null,
            "object_position": null,
            "order": null,
            "overflow": null,
            "overflow_x": null,
            "overflow_y": null,
            "padding": null,
            "right": null,
            "top": null,
            "visibility": null,
            "width": null
          }
        },
        "79f602882c43462b8d8029b8d433c896": {
          "model_module": "@jupyter-widgets/controls",
          "model_name": "DescriptionStyleModel",
          "model_module_version": "1.5.0",
          "state": {
            "_model_module": "@jupyter-widgets/controls",
            "_model_module_version": "1.5.0",
            "_model_name": "DescriptionStyleModel",
            "_view_count": null,
            "_view_module": "@jupyter-widgets/base",
            "_view_module_version": "1.2.0",
            "_view_name": "StyleView",
            "description_width": ""
          }
        },
        "a6a1b4a5f40f4c80ac87c8944bf9e60c": {
          "model_module": "@jupyter-widgets/controls",
          "model_name": "HBoxModel",
          "model_module_version": "1.5.0",
          "state": {
            "_dom_classes": [],
            "_model_module": "@jupyter-widgets/controls",
            "_model_module_version": "1.5.0",
            "_model_name": "HBoxModel",
            "_view_count": null,
            "_view_module": "@jupyter-widgets/controls",
            "_view_module_version": "1.5.0",
            "_view_name": "HBoxView",
            "box_style": "",
            "children": [
              "IPY_MODEL_52f3b03c213542fea3c59cafa98eef29",
              "IPY_MODEL_9738b7e7cb074ec0b60023ea38cf9803",
              "IPY_MODEL_63faae21293144198214a3151752f267"
            ],
            "layout": "IPY_MODEL_8b53054d5f364b308e20f19689d9d11d"
          }
        },
        "52f3b03c213542fea3c59cafa98eef29": {
          "model_module": "@jupyter-widgets/controls",
          "model_name": "HTMLModel",
          "model_module_version": "1.5.0",
          "state": {
            "_dom_classes": [],
            "_model_module": "@jupyter-widgets/controls",
            "_model_module_version": "1.5.0",
            "_model_name": "HTMLModel",
            "_view_count": null,
            "_view_module": "@jupyter-widgets/controls",
            "_view_module_version": "1.5.0",
            "_view_name": "HTMLView",
            "description": "",
            "description_tooltip": null,
            "layout": "IPY_MODEL_62fed089ecbd449099a731a8d5ad5c65",
            "placeholder": "​",
            "style": "IPY_MODEL_c7a668dad0824ff68447f17d37d6c150",
            "value": "100%"
          }
        },
        "9738b7e7cb074ec0b60023ea38cf9803": {
          "model_module": "@jupyter-widgets/controls",
          "model_name": "FloatProgressModel",
          "model_module_version": "1.5.0",
          "state": {
            "_dom_classes": [],
            "_model_module": "@jupyter-widgets/controls",
            "_model_module_version": "1.5.0",
            "_model_name": "FloatProgressModel",
            "_view_count": null,
            "_view_module": "@jupyter-widgets/controls",
            "_view_module_version": "1.5.0",
            "_view_name": "ProgressView",
            "bar_style": "success",
            "description": "",
            "description_tooltip": null,
            "layout": "IPY_MODEL_66181ed9e87a440caa5ca206cc54e536",
            "max": 15890,
            "min": 0,
            "orientation": "horizontal",
            "style": "IPY_MODEL_cd4a4019cc0e4fdea93665720f7cb8c5",
            "value": 15890
          }
        },
        "63faae21293144198214a3151752f267": {
          "model_module": "@jupyter-widgets/controls",
          "model_name": "HTMLModel",
          "model_module_version": "1.5.0",
          "state": {
            "_dom_classes": [],
            "_model_module": "@jupyter-widgets/controls",
            "_model_module_version": "1.5.0",
            "_model_name": "HTMLModel",
            "_view_count": null,
            "_view_module": "@jupyter-widgets/controls",
            "_view_module_version": "1.5.0",
            "_view_name": "HTMLView",
            "description": "",
            "description_tooltip": null,
            "layout": "IPY_MODEL_22a50f95f28e49a896923dc6cd8243bf",
            "placeholder": "​",
            "style": "IPY_MODEL_b307954c205541439e6bbd7d9a4849db",
            "value": " 15890/15890 [01:18&lt;00:00, 202.80it/s]"
          }
        },
        "8b53054d5f364b308e20f19689d9d11d": {
          "model_module": "@jupyter-widgets/base",
          "model_name": "LayoutModel",
          "model_module_version": "1.2.0",
          "state": {
            "_model_module": "@jupyter-widgets/base",
            "_model_module_version": "1.2.0",
            "_model_name": "LayoutModel",
            "_view_count": null,
            "_view_module": "@jupyter-widgets/base",
            "_view_module_version": "1.2.0",
            "_view_name": "LayoutView",
            "align_content": null,
            "align_items": null,
            "align_self": null,
            "border": null,
            "bottom": null,
            "display": null,
            "flex": null,
            "flex_flow": null,
            "grid_area": null,
            "grid_auto_columns": null,
            "grid_auto_flow": null,
            "grid_auto_rows": null,
            "grid_column": null,
            "grid_gap": null,
            "grid_row": null,
            "grid_template_areas": null,
            "grid_template_columns": null,
            "grid_template_rows": null,
            "height": null,
            "justify_content": null,
            "justify_items": null,
            "left": null,
            "margin": null,
            "max_height": null,
            "max_width": null,
            "min_height": null,
            "min_width": null,
            "object_fit": null,
            "object_position": null,
            "order": null,
            "overflow": null,
            "overflow_x": null,
            "overflow_y": null,
            "padding": null,
            "right": null,
            "top": null,
            "visibility": null,
            "width": null
          }
        },
        "62fed089ecbd449099a731a8d5ad5c65": {
          "model_module": "@jupyter-widgets/base",
          "model_name": "LayoutModel",
          "model_module_version": "1.2.0",
          "state": {
            "_model_module": "@jupyter-widgets/base",
            "_model_module_version": "1.2.0",
            "_model_name": "LayoutModel",
            "_view_count": null,
            "_view_module": "@jupyter-widgets/base",
            "_view_module_version": "1.2.0",
            "_view_name": "LayoutView",
            "align_content": null,
            "align_items": null,
            "align_self": null,
            "border": null,
            "bottom": null,
            "display": null,
            "flex": null,
            "flex_flow": null,
            "grid_area": null,
            "grid_auto_columns": null,
            "grid_auto_flow": null,
            "grid_auto_rows": null,
            "grid_column": null,
            "grid_gap": null,
            "grid_row": null,
            "grid_template_areas": null,
            "grid_template_columns": null,
            "grid_template_rows": null,
            "height": null,
            "justify_content": null,
            "justify_items": null,
            "left": null,
            "margin": null,
            "max_height": null,
            "max_width": null,
            "min_height": null,
            "min_width": null,
            "object_fit": null,
            "object_position": null,
            "order": null,
            "overflow": null,
            "overflow_x": null,
            "overflow_y": null,
            "padding": null,
            "right": null,
            "top": null,
            "visibility": null,
            "width": null
          }
        },
        "c7a668dad0824ff68447f17d37d6c150": {
          "model_module": "@jupyter-widgets/controls",
          "model_name": "DescriptionStyleModel",
          "model_module_version": "1.5.0",
          "state": {
            "_model_module": "@jupyter-widgets/controls",
            "_model_module_version": "1.5.0",
            "_model_name": "DescriptionStyleModel",
            "_view_count": null,
            "_view_module": "@jupyter-widgets/base",
            "_view_module_version": "1.2.0",
            "_view_name": "StyleView",
            "description_width": ""
          }
        },
        "66181ed9e87a440caa5ca206cc54e536": {
          "model_module": "@jupyter-widgets/base",
          "model_name": "LayoutModel",
          "model_module_version": "1.2.0",
          "state": {
            "_model_module": "@jupyter-widgets/base",
            "_model_module_version": "1.2.0",
            "_model_name": "LayoutModel",
            "_view_count": null,
            "_view_module": "@jupyter-widgets/base",
            "_view_module_version": "1.2.0",
            "_view_name": "LayoutView",
            "align_content": null,
            "align_items": null,
            "align_self": null,
            "border": null,
            "bottom": null,
            "display": null,
            "flex": null,
            "flex_flow": null,
            "grid_area": null,
            "grid_auto_columns": null,
            "grid_auto_flow": null,
            "grid_auto_rows": null,
            "grid_column": null,
            "grid_gap": null,
            "grid_row": null,
            "grid_template_areas": null,
            "grid_template_columns": null,
            "grid_template_rows": null,
            "height": null,
            "justify_content": null,
            "justify_items": null,
            "left": null,
            "margin": null,
            "max_height": null,
            "max_width": null,
            "min_height": null,
            "min_width": null,
            "object_fit": null,
            "object_position": null,
            "order": null,
            "overflow": null,
            "overflow_x": null,
            "overflow_y": null,
            "padding": null,
            "right": null,
            "top": null,
            "visibility": null,
            "width": null
          }
        },
        "cd4a4019cc0e4fdea93665720f7cb8c5": {
          "model_module": "@jupyter-widgets/controls",
          "model_name": "ProgressStyleModel",
          "model_module_version": "1.5.0",
          "state": {
            "_model_module": "@jupyter-widgets/controls",
            "_model_module_version": "1.5.0",
            "_model_name": "ProgressStyleModel",
            "_view_count": null,
            "_view_module": "@jupyter-widgets/base",
            "_view_module_version": "1.2.0",
            "_view_name": "StyleView",
            "bar_color": null,
            "description_width": ""
          }
        },
        "22a50f95f28e49a896923dc6cd8243bf": {
          "model_module": "@jupyter-widgets/base",
          "model_name": "LayoutModel",
          "model_module_version": "1.2.0",
          "state": {
            "_model_module": "@jupyter-widgets/base",
            "_model_module_version": "1.2.0",
            "_model_name": "LayoutModel",
            "_view_count": null,
            "_view_module": "@jupyter-widgets/base",
            "_view_module_version": "1.2.0",
            "_view_name": "LayoutView",
            "align_content": null,
            "align_items": null,
            "align_self": null,
            "border": null,
            "bottom": null,
            "display": null,
            "flex": null,
            "flex_flow": null,
            "grid_area": null,
            "grid_auto_columns": null,
            "grid_auto_flow": null,
            "grid_auto_rows": null,
            "grid_column": null,
            "grid_gap": null,
            "grid_row": null,
            "grid_template_areas": null,
            "grid_template_columns": null,
            "grid_template_rows": null,
            "height": null,
            "justify_content": null,
            "justify_items": null,
            "left": null,
            "margin": null,
            "max_height": null,
            "max_width": null,
            "min_height": null,
            "min_width": null,
            "object_fit": null,
            "object_position": null,
            "order": null,
            "overflow": null,
            "overflow_x": null,
            "overflow_y": null,
            "padding": null,
            "right": null,
            "top": null,
            "visibility": null,
            "width": null
          }
        },
        "b307954c205541439e6bbd7d9a4849db": {
          "model_module": "@jupyter-widgets/controls",
          "model_name": "DescriptionStyleModel",
          "model_module_version": "1.5.0",
          "state": {
            "_model_module": "@jupyter-widgets/controls",
            "_model_module_version": "1.5.0",
            "_model_name": "DescriptionStyleModel",
            "_view_count": null,
            "_view_module": "@jupyter-widgets/base",
            "_view_module_version": "1.2.0",
            "_view_name": "StyleView",
            "description_width": ""
          }
        },
        "0c736457e3654746a1e7b6bc107290ca": {
          "model_module": "@jupyter-widgets/controls",
          "model_name": "HBoxModel",
          "model_module_version": "1.5.0",
          "state": {
            "_dom_classes": [],
            "_model_module": "@jupyter-widgets/controls",
            "_model_module_version": "1.5.0",
            "_model_name": "HBoxModel",
            "_view_count": null,
            "_view_module": "@jupyter-widgets/controls",
            "_view_module_version": "1.5.0",
            "_view_name": "HBoxView",
            "box_style": "",
            "children": [
              "IPY_MODEL_e0bff8a4d7b7445aa812a3417d859cb3",
              "IPY_MODEL_61e1246607b544a09eed71d0698f02fa",
              "IPY_MODEL_53a4bc7c20234cf38c2b62cf189b4250"
            ],
            "layout": "IPY_MODEL_46f25413a1f644399731acc6df7f0cce"
          }
        },
        "e0bff8a4d7b7445aa812a3417d859cb3": {
          "model_module": "@jupyter-widgets/controls",
          "model_name": "HTMLModel",
          "model_module_version": "1.5.0",
          "state": {
            "_dom_classes": [],
            "_model_module": "@jupyter-widgets/controls",
            "_model_module_version": "1.5.0",
            "_model_name": "HTMLModel",
            "_view_count": null,
            "_view_module": "@jupyter-widgets/controls",
            "_view_module_version": "1.5.0",
            "_view_name": "HTMLView",
            "description": "",
            "description_tooltip": null,
            "layout": "IPY_MODEL_cb8014867a664dfa8cac8307cfe80cc0",
            "placeholder": "​",
            "style": "IPY_MODEL_a7d010fecea74ee794537d8fcaac887e",
            "value": "100%"
          }
        },
        "61e1246607b544a09eed71d0698f02fa": {
          "model_module": "@jupyter-widgets/controls",
          "model_name": "FloatProgressModel",
          "model_module_version": "1.5.0",
          "state": {
            "_dom_classes": [],
            "_model_module": "@jupyter-widgets/controls",
            "_model_module_version": "1.5.0",
            "_model_name": "FloatProgressModel",
            "_view_count": null,
            "_view_module": "@jupyter-widgets/controls",
            "_view_module_version": "1.5.0",
            "_view_name": "ProgressView",
            "bar_style": "success",
            "description": "",
            "description_tooltip": null,
            "layout": "IPY_MODEL_97b14983661644d4ba4f70d743e6133c",
            "max": 15890,
            "min": 0,
            "orientation": "horizontal",
            "style": "IPY_MODEL_32ec7c1adeda478db434e5cd4db2bb79",
            "value": 15890
          }
        },
        "53a4bc7c20234cf38c2b62cf189b4250": {
          "model_module": "@jupyter-widgets/controls",
          "model_name": "HTMLModel",
          "model_module_version": "1.5.0",
          "state": {
            "_dom_classes": [],
            "_model_module": "@jupyter-widgets/controls",
            "_model_module_version": "1.5.0",
            "_model_name": "HTMLModel",
            "_view_count": null,
            "_view_module": "@jupyter-widgets/controls",
            "_view_module_version": "1.5.0",
            "_view_name": "HTMLView",
            "description": "",
            "description_tooltip": null,
            "layout": "IPY_MODEL_9172765387b14aa3ae7b05314a7602af",
            "placeholder": "​",
            "style": "IPY_MODEL_338cce594084489ea13b285dcedeac61",
            "value": " 15890/15890 [00:22&lt;00:00, 696.05it/s]"
          }
        },
        "46f25413a1f644399731acc6df7f0cce": {
          "model_module": "@jupyter-widgets/base",
          "model_name": "LayoutModel",
          "model_module_version": "1.2.0",
          "state": {
            "_model_module": "@jupyter-widgets/base",
            "_model_module_version": "1.2.0",
            "_model_name": "LayoutModel",
            "_view_count": null,
            "_view_module": "@jupyter-widgets/base",
            "_view_module_version": "1.2.0",
            "_view_name": "LayoutView",
            "align_content": null,
            "align_items": null,
            "align_self": null,
            "border": null,
            "bottom": null,
            "display": null,
            "flex": null,
            "flex_flow": null,
            "grid_area": null,
            "grid_auto_columns": null,
            "grid_auto_flow": null,
            "grid_auto_rows": null,
            "grid_column": null,
            "grid_gap": null,
            "grid_row": null,
            "grid_template_areas": null,
            "grid_template_columns": null,
            "grid_template_rows": null,
            "height": null,
            "justify_content": null,
            "justify_items": null,
            "left": null,
            "margin": null,
            "max_height": null,
            "max_width": null,
            "min_height": null,
            "min_width": null,
            "object_fit": null,
            "object_position": null,
            "order": null,
            "overflow": null,
            "overflow_x": null,
            "overflow_y": null,
            "padding": null,
            "right": null,
            "top": null,
            "visibility": null,
            "width": null
          }
        },
        "cb8014867a664dfa8cac8307cfe80cc0": {
          "model_module": "@jupyter-widgets/base",
          "model_name": "LayoutModel",
          "model_module_version": "1.2.0",
          "state": {
            "_model_module": "@jupyter-widgets/base",
            "_model_module_version": "1.2.0",
            "_model_name": "LayoutModel",
            "_view_count": null,
            "_view_module": "@jupyter-widgets/base",
            "_view_module_version": "1.2.0",
            "_view_name": "LayoutView",
            "align_content": null,
            "align_items": null,
            "align_self": null,
            "border": null,
            "bottom": null,
            "display": null,
            "flex": null,
            "flex_flow": null,
            "grid_area": null,
            "grid_auto_columns": null,
            "grid_auto_flow": null,
            "grid_auto_rows": null,
            "grid_column": null,
            "grid_gap": null,
            "grid_row": null,
            "grid_template_areas": null,
            "grid_template_columns": null,
            "grid_template_rows": null,
            "height": null,
            "justify_content": null,
            "justify_items": null,
            "left": null,
            "margin": null,
            "max_height": null,
            "max_width": null,
            "min_height": null,
            "min_width": null,
            "object_fit": null,
            "object_position": null,
            "order": null,
            "overflow": null,
            "overflow_x": null,
            "overflow_y": null,
            "padding": null,
            "right": null,
            "top": null,
            "visibility": null,
            "width": null
          }
        },
        "a7d010fecea74ee794537d8fcaac887e": {
          "model_module": "@jupyter-widgets/controls",
          "model_name": "DescriptionStyleModel",
          "model_module_version": "1.5.0",
          "state": {
            "_model_module": "@jupyter-widgets/controls",
            "_model_module_version": "1.5.0",
            "_model_name": "DescriptionStyleModel",
            "_view_count": null,
            "_view_module": "@jupyter-widgets/base",
            "_view_module_version": "1.2.0",
            "_view_name": "StyleView",
            "description_width": ""
          }
        },
        "97b14983661644d4ba4f70d743e6133c": {
          "model_module": "@jupyter-widgets/base",
          "model_name": "LayoutModel",
          "model_module_version": "1.2.0",
          "state": {
            "_model_module": "@jupyter-widgets/base",
            "_model_module_version": "1.2.0",
            "_model_name": "LayoutModel",
            "_view_count": null,
            "_view_module": "@jupyter-widgets/base",
            "_view_module_version": "1.2.0",
            "_view_name": "LayoutView",
            "align_content": null,
            "align_items": null,
            "align_self": null,
            "border": null,
            "bottom": null,
            "display": null,
            "flex": null,
            "flex_flow": null,
            "grid_area": null,
            "grid_auto_columns": null,
            "grid_auto_flow": null,
            "grid_auto_rows": null,
            "grid_column": null,
            "grid_gap": null,
            "grid_row": null,
            "grid_template_areas": null,
            "grid_template_columns": null,
            "grid_template_rows": null,
            "height": null,
            "justify_content": null,
            "justify_items": null,
            "left": null,
            "margin": null,
            "max_height": null,
            "max_width": null,
            "min_height": null,
            "min_width": null,
            "object_fit": null,
            "object_position": null,
            "order": null,
            "overflow": null,
            "overflow_x": null,
            "overflow_y": null,
            "padding": null,
            "right": null,
            "top": null,
            "visibility": null,
            "width": null
          }
        },
        "32ec7c1adeda478db434e5cd4db2bb79": {
          "model_module": "@jupyter-widgets/controls",
          "model_name": "ProgressStyleModel",
          "model_module_version": "1.5.0",
          "state": {
            "_model_module": "@jupyter-widgets/controls",
            "_model_module_version": "1.5.0",
            "_model_name": "ProgressStyleModel",
            "_view_count": null,
            "_view_module": "@jupyter-widgets/base",
            "_view_module_version": "1.2.0",
            "_view_name": "StyleView",
            "bar_color": null,
            "description_width": ""
          }
        },
        "9172765387b14aa3ae7b05314a7602af": {
          "model_module": "@jupyter-widgets/base",
          "model_name": "LayoutModel",
          "model_module_version": "1.2.0",
          "state": {
            "_model_module": "@jupyter-widgets/base",
            "_model_module_version": "1.2.0",
            "_model_name": "LayoutModel",
            "_view_count": null,
            "_view_module": "@jupyter-widgets/base",
            "_view_module_version": "1.2.0",
            "_view_name": "LayoutView",
            "align_content": null,
            "align_items": null,
            "align_self": null,
            "border": null,
            "bottom": null,
            "display": null,
            "flex": null,
            "flex_flow": null,
            "grid_area": null,
            "grid_auto_columns": null,
            "grid_auto_flow": null,
            "grid_auto_rows": null,
            "grid_column": null,
            "grid_gap": null,
            "grid_row": null,
            "grid_template_areas": null,
            "grid_template_columns": null,
            "grid_template_rows": null,
            "height": null,
            "justify_content": null,
            "justify_items": null,
            "left": null,
            "margin": null,
            "max_height": null,
            "max_width": null,
            "min_height": null,
            "min_width": null,
            "object_fit": null,
            "object_position": null,
            "order": null,
            "overflow": null,
            "overflow_x": null,
            "overflow_y": null,
            "padding": null,
            "right": null,
            "top": null,
            "visibility": null,
            "width": null
          }
        },
        "338cce594084489ea13b285dcedeac61": {
          "model_module": "@jupyter-widgets/controls",
          "model_name": "DescriptionStyleModel",
          "model_module_version": "1.5.0",
          "state": {
            "_model_module": "@jupyter-widgets/controls",
            "_model_module_version": "1.5.0",
            "_model_name": "DescriptionStyleModel",
            "_view_count": null,
            "_view_module": "@jupyter-widgets/base",
            "_view_module_version": "1.2.0",
            "_view_name": "StyleView",
            "description_width": ""
          }
        },
        "a0fba5cce3c449919ae27af69d5ea827": {
          "model_module": "@jupyter-widgets/controls",
          "model_name": "HBoxModel",
          "model_module_version": "1.5.0",
          "state": {
            "_dom_classes": [],
            "_model_module": "@jupyter-widgets/controls",
            "_model_module_version": "1.5.0",
            "_model_name": "HBoxModel",
            "_view_count": null,
            "_view_module": "@jupyter-widgets/controls",
            "_view_module_version": "1.5.0",
            "_view_name": "HBoxView",
            "box_style": "",
            "children": [
              "IPY_MODEL_fdde6115a3a44ea29d91c079440935db",
              "IPY_MODEL_9f92664483d04426a5c820030b03f966",
              "IPY_MODEL_0419bd608fa7486a9551845042e61fb0"
            ],
            "layout": "IPY_MODEL_afcd2483d9164dccba4d961da2b63eda"
          }
        },
        "fdde6115a3a44ea29d91c079440935db": {
          "model_module": "@jupyter-widgets/controls",
          "model_name": "HTMLModel",
          "model_module_version": "1.5.0",
          "state": {
            "_dom_classes": [],
            "_model_module": "@jupyter-widgets/controls",
            "_model_module_version": "1.5.0",
            "_model_name": "HTMLModel",
            "_view_count": null,
            "_view_module": "@jupyter-widgets/controls",
            "_view_module_version": "1.5.0",
            "_view_name": "HTMLView",
            "description": "",
            "description_tooltip": null,
            "layout": "IPY_MODEL_5741be870a6f46098c1a9dd36ed72840",
            "placeholder": "​",
            "style": "IPY_MODEL_9dc663778dfe4e38b06500e95ed611e1",
            "value": "100%"
          }
        },
        "9f92664483d04426a5c820030b03f966": {
          "model_module": "@jupyter-widgets/controls",
          "model_name": "FloatProgressModel",
          "model_module_version": "1.5.0",
          "state": {
            "_dom_classes": [],
            "_model_module": "@jupyter-widgets/controls",
            "_model_module_version": "1.5.0",
            "_model_name": "FloatProgressModel",
            "_view_count": null,
            "_view_module": "@jupyter-widgets/controls",
            "_view_module_version": "1.5.0",
            "_view_name": "ProgressView",
            "bar_style": "success",
            "description": "",
            "description_tooltip": null,
            "layout": "IPY_MODEL_b6f5fc1379314e4694b4d7389a9fd801",
            "max": 15890,
            "min": 0,
            "orientation": "horizontal",
            "style": "IPY_MODEL_c54650b59f114580807d1f487ca7c00d",
            "value": 15890
          }
        },
        "0419bd608fa7486a9551845042e61fb0": {
          "model_module": "@jupyter-widgets/controls",
          "model_name": "HTMLModel",
          "model_module_version": "1.5.0",
          "state": {
            "_dom_classes": [],
            "_model_module": "@jupyter-widgets/controls",
            "_model_module_version": "1.5.0",
            "_model_name": "HTMLModel",
            "_view_count": null,
            "_view_module": "@jupyter-widgets/controls",
            "_view_module_version": "1.5.0",
            "_view_name": "HTMLView",
            "description": "",
            "description_tooltip": null,
            "layout": "IPY_MODEL_a938ef60bfbb48a38d5044aad4d37d78",
            "placeholder": "​",
            "style": "IPY_MODEL_9c84856a7ef84db590d31a2c07ffbef3",
            "value": " 15890/15890 [00:22&lt;00:00, 716.87it/s]"
          }
        },
        "afcd2483d9164dccba4d961da2b63eda": {
          "model_module": "@jupyter-widgets/base",
          "model_name": "LayoutModel",
          "model_module_version": "1.2.0",
          "state": {
            "_model_module": "@jupyter-widgets/base",
            "_model_module_version": "1.2.0",
            "_model_name": "LayoutModel",
            "_view_count": null,
            "_view_module": "@jupyter-widgets/base",
            "_view_module_version": "1.2.0",
            "_view_name": "LayoutView",
            "align_content": null,
            "align_items": null,
            "align_self": null,
            "border": null,
            "bottom": null,
            "display": null,
            "flex": null,
            "flex_flow": null,
            "grid_area": null,
            "grid_auto_columns": null,
            "grid_auto_flow": null,
            "grid_auto_rows": null,
            "grid_column": null,
            "grid_gap": null,
            "grid_row": null,
            "grid_template_areas": null,
            "grid_template_columns": null,
            "grid_template_rows": null,
            "height": null,
            "justify_content": null,
            "justify_items": null,
            "left": null,
            "margin": null,
            "max_height": null,
            "max_width": null,
            "min_height": null,
            "min_width": null,
            "object_fit": null,
            "object_position": null,
            "order": null,
            "overflow": null,
            "overflow_x": null,
            "overflow_y": null,
            "padding": null,
            "right": null,
            "top": null,
            "visibility": null,
            "width": null
          }
        },
        "5741be870a6f46098c1a9dd36ed72840": {
          "model_module": "@jupyter-widgets/base",
          "model_name": "LayoutModel",
          "model_module_version": "1.2.0",
          "state": {
            "_model_module": "@jupyter-widgets/base",
            "_model_module_version": "1.2.0",
            "_model_name": "LayoutModel",
            "_view_count": null,
            "_view_module": "@jupyter-widgets/base",
            "_view_module_version": "1.2.0",
            "_view_name": "LayoutView",
            "align_content": null,
            "align_items": null,
            "align_self": null,
            "border": null,
            "bottom": null,
            "display": null,
            "flex": null,
            "flex_flow": null,
            "grid_area": null,
            "grid_auto_columns": null,
            "grid_auto_flow": null,
            "grid_auto_rows": null,
            "grid_column": null,
            "grid_gap": null,
            "grid_row": null,
            "grid_template_areas": null,
            "grid_template_columns": null,
            "grid_template_rows": null,
            "height": null,
            "justify_content": null,
            "justify_items": null,
            "left": null,
            "margin": null,
            "max_height": null,
            "max_width": null,
            "min_height": null,
            "min_width": null,
            "object_fit": null,
            "object_position": null,
            "order": null,
            "overflow": null,
            "overflow_x": null,
            "overflow_y": null,
            "padding": null,
            "right": null,
            "top": null,
            "visibility": null,
            "width": null
          }
        },
        "9dc663778dfe4e38b06500e95ed611e1": {
          "model_module": "@jupyter-widgets/controls",
          "model_name": "DescriptionStyleModel",
          "model_module_version": "1.5.0",
          "state": {
            "_model_module": "@jupyter-widgets/controls",
            "_model_module_version": "1.5.0",
            "_model_name": "DescriptionStyleModel",
            "_view_count": null,
            "_view_module": "@jupyter-widgets/base",
            "_view_module_version": "1.2.0",
            "_view_name": "StyleView",
            "description_width": ""
          }
        },
        "b6f5fc1379314e4694b4d7389a9fd801": {
          "model_module": "@jupyter-widgets/base",
          "model_name": "LayoutModel",
          "model_module_version": "1.2.0",
          "state": {
            "_model_module": "@jupyter-widgets/base",
            "_model_module_version": "1.2.0",
            "_model_name": "LayoutModel",
            "_view_count": null,
            "_view_module": "@jupyter-widgets/base",
            "_view_module_version": "1.2.0",
            "_view_name": "LayoutView",
            "align_content": null,
            "align_items": null,
            "align_self": null,
            "border": null,
            "bottom": null,
            "display": null,
            "flex": null,
            "flex_flow": null,
            "grid_area": null,
            "grid_auto_columns": null,
            "grid_auto_flow": null,
            "grid_auto_rows": null,
            "grid_column": null,
            "grid_gap": null,
            "grid_row": null,
            "grid_template_areas": null,
            "grid_template_columns": null,
            "grid_template_rows": null,
            "height": null,
            "justify_content": null,
            "justify_items": null,
            "left": null,
            "margin": null,
            "max_height": null,
            "max_width": null,
            "min_height": null,
            "min_width": null,
            "object_fit": null,
            "object_position": null,
            "order": null,
            "overflow": null,
            "overflow_x": null,
            "overflow_y": null,
            "padding": null,
            "right": null,
            "top": null,
            "visibility": null,
            "width": null
          }
        },
        "c54650b59f114580807d1f487ca7c00d": {
          "model_module": "@jupyter-widgets/controls",
          "model_name": "ProgressStyleModel",
          "model_module_version": "1.5.0",
          "state": {
            "_model_module": "@jupyter-widgets/controls",
            "_model_module_version": "1.5.0",
            "_model_name": "ProgressStyleModel",
            "_view_count": null,
            "_view_module": "@jupyter-widgets/base",
            "_view_module_version": "1.2.0",
            "_view_name": "StyleView",
            "bar_color": null,
            "description_width": ""
          }
        },
        "a938ef60bfbb48a38d5044aad4d37d78": {
          "model_module": "@jupyter-widgets/base",
          "model_name": "LayoutModel",
          "model_module_version": "1.2.0",
          "state": {
            "_model_module": "@jupyter-widgets/base",
            "_model_module_version": "1.2.0",
            "_model_name": "LayoutModel",
            "_view_count": null,
            "_view_module": "@jupyter-widgets/base",
            "_view_module_version": "1.2.0",
            "_view_name": "LayoutView",
            "align_content": null,
            "align_items": null,
            "align_self": null,
            "border": null,
            "bottom": null,
            "display": null,
            "flex": null,
            "flex_flow": null,
            "grid_area": null,
            "grid_auto_columns": null,
            "grid_auto_flow": null,
            "grid_auto_rows": null,
            "grid_column": null,
            "grid_gap": null,
            "grid_row": null,
            "grid_template_areas": null,
            "grid_template_columns": null,
            "grid_template_rows": null,
            "height": null,
            "justify_content": null,
            "justify_items": null,
            "left": null,
            "margin": null,
            "max_height": null,
            "max_width": null,
            "min_height": null,
            "min_width": null,
            "object_fit": null,
            "object_position": null,
            "order": null,
            "overflow": null,
            "overflow_x": null,
            "overflow_y": null,
            "padding": null,
            "right": null,
            "top": null,
            "visibility": null,
            "width": null
          }
        },
        "9c84856a7ef84db590d31a2c07ffbef3": {
          "model_module": "@jupyter-widgets/controls",
          "model_name": "DescriptionStyleModel",
          "model_module_version": "1.5.0",
          "state": {
            "_model_module": "@jupyter-widgets/controls",
            "_model_module_version": "1.5.0",
            "_model_name": "DescriptionStyleModel",
            "_view_count": null,
            "_view_module": "@jupyter-widgets/base",
            "_view_module_version": "1.2.0",
            "_view_name": "StyleView",
            "description_width": ""
          }
        }
      }
    },
    "accelerator": "GPU"
  },
  "nbformat": 4,
  "nbformat_minor": 5
}